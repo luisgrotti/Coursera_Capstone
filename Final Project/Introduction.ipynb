{
 "cells": [
  {
   "cell_type": "markdown",
   "metadata": {},
   "source": [
    "# Spending Public Resources Wisely\n",
    "\n",
    "## Introduction\n",
    "\n",
    "In Brazil, the Constitution states that public security, health care assistance and education must be offered by the government. However, due to historical mismanagement, those such important services are poorly provided to Brazilians. We can find news almost everyday that confirm this sad scenario like [this one](http://agenciabrasil.ebc.com.br/en/human-rights/noticia/2019-06/violence-atlas-reveals-homicide-rate-brazil-42) and [this one](https://www.dw.com/en/brazil-suffers-health-care-crisis-as-sus-system-flounders/a-45480379).\n",
    "\n",
    "In addition, in last few years Brazil is facing a severe economic and fiscal crisis. The governments do not have enough money even to pay for their ordinary obligations. The number of new investments has dropped dramatically, including those which can improve population welfare.\n",
    "\n",
    "Increasing tax rates is not an option for the population, Brazil's tax burden reaches almost 34% of our GDP. Thus an immediate action to help people and government in such complex problem would be to optimize government spendings. The golden idea here is to spend the resources wisely to make more with what we already have.\n",
    "\n",
    "With a population of approximately 12 millions of people, São Paulo is the biggest city in Brazil. The city is splitted into 96 districts for management purposes and each one is unique in its needs.\n",
    "\n",
    "What is shared by most of the districts is the poor quality of services provided by the government. \n",
    "Let's focus on police patrol and traffic control. Those services are heavily affected by human agglomerations, i.e. the more a place is crowed the more we need policy patrol and traffic control.\n",
    "\n",
    "The purpose of this analysis is to classify all the 96 districts into groups by studying their people agglomeration pattern during the day. Ok, but why?\n",
    "\n",
    "By knowing when a group of districts is more crowed São Paulo's administration can place most of your power and resources when people need the most. In this context this is spend money wisely: to reach most of your audience and to reach them at the right moment."
   ]
  },
  {
   "cell_type": "code",
   "execution_count": null,
   "metadata": {},
   "outputs": [],
   "source": []
  }
 ],
 "metadata": {
  "kernelspec": {
   "display_name": "Python",
   "language": "python",
   "name": "conda-env-python-py"
  },
  "language_info": {
   "codemirror_mode": {
    "name": "ipython",
    "version": 3
   },
   "file_extension": ".py",
   "mimetype": "text/x-python",
   "name": "python",
   "nbconvert_exporter": "python",
   "pygments_lexer": "ipython3",
   "version": "3.6.7"
  }
 },
 "nbformat": 4,
 "nbformat_minor": 4
}
