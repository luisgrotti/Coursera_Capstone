{
 "cells": [
  {
   "cell_type": "markdown",
   "metadata": {},
   "source": [
    "# Capstone Project - Customized Suggestions for Travelers\n",
    "### Applied Data Science Capstone by IBM/Coursera"
   ]
  },
  {
   "cell_type": "markdown",
   "metadata": {},
   "source": [
    "## Table of contents\n",
    "* [Introduction: Business Problem](#introduction)\n",
    "* [Data](#data)\n",
    "* [Methodology](#methodology)\n",
    "* [Analysis](#analysis)\n",
    "* [Results and Discussion](#results)\n",
    "* [Conclusion](#conclusion)"
   ]
  },
  {
   "cell_type": "markdown",
   "metadata": {},
   "source": [
    "## Introduction<a name=\"introduction\"></a>\n",
    "\n",
    "In  this project we'll group cities by checking similarities between  their venues categories. This study target travel agencies which are interested in make customized suggestions to its clients.\n",
    "Since there are lots of spots around the world we'll focus on most visited cities. We'll consider just cities which have currently a positive growth in tourist arrivals. We are also interested in venues located near city centers and their categories.\n",
    "\n",
    "We'll use data science skills to cluster cities in similar groups based  on their venues categories. Each group will be labeled based on their touristic characteristics. Doing so, stakeholders will be able to suggest cities which are in line with client's preferences."
   ]
  },
  {
   "cell_type": "markdown",
   "metadata": {},
   "source": [
    "## Data <a name=\"data\"></a>\n",
    "\n",
    "Based on definition of our problem, factors that will influence our solution are:\n",
    " \n",
    "* Number of venues within five kilometers from city centers\n",
    "* Arrivals growth rates\n",
    "\n",
    "We decided to use ranking provided by Euromonitor of most visited cities in the world.\n",
    "\n",
    "Following data sources will be needed to generate the required solution:\n",
    "\n",
    "* List of top 100 cities ranked by the number of international visitors provided by Euromonitor\n",
    "* Latitudes and longitudes of city centers, obtained using Nominatim/Geopy library\n",
    "* Venues around city centers provided by Foursquare API\n",
    "* Classification of each Foursquare categories by tourism types"
   ]
  },
  {
   "cell_type": "markdown",
   "metadata": {},
   "source": [
    "Before starting let's import all dependencies used in this project."
   ]
  },
  {
   "cell_type": "code",
   "execution_count": 1,
   "metadata": {},
   "outputs": [
    {
     "name": "stdout",
     "output_type": "stream",
     "text": [
      "Libraries Imported\n"
     ]
    }
   ],
   "source": [
    "import pandas as pd # library to handle dataframes\n",
    "import seaborn as sns # library to handle data visualization\n",
    "import numpy as np # library to handle arrays\n",
    "import folium # library to handle maps\n",
    "import json # library to handle JSON files\n",
    "import requests # library to handle requests\n",
    "from sklearn.cluster import KMeans # machine learning algorithms\n",
    "import matplotlib.pyplot as plt # plotting tool\n",
    "import matplotlib.cm as cm\n",
    "import matplotlib.colors as colors\n",
    "\n",
    "#!pip install pycountry_convert \n",
    "import pycountry_convert as pc # library to convert countries/continents codes\n",
    "#!pip install geopy\n",
    "from geopy.geocoders import Nominatim # convert an address into latitude and longitude\n",
    "#!pip install lxml\n",
    "import lxml # library to handle html\n",
    "\n",
    "print('Libraries Imported')"
   ]
  },
  {
   "cell_type": "markdown",
   "metadata": {},
   "source": [
    "### City Candidates\n",
    "\n",
    "We will scrape Wikipedia to get **Euromonitor** ranking of most visited cities. Euromonitor define a foreign visitor as a person who spends at least 24 hours in a city. For cities bordering directly on foreign territory,  border crossings from country to country are not counted."
   ]
  },
  {
   "cell_type": "code",
   "execution_count": 64,
   "metadata": {},
   "outputs": [
    {
     "data": {
      "text/html": [
       "<div>\n",
       "<style scoped>\n",
       "    .dataframe tbody tr th:only-of-type {\n",
       "        vertical-align: middle;\n",
       "    }\n",
       "\n",
       "    .dataframe tbody tr th {\n",
       "        vertical-align: top;\n",
       "    }\n",
       "\n",
       "    .dataframe thead th {\n",
       "        text-align: right;\n",
       "    }\n",
       "</style>\n",
       "<table border=\"1\" class=\"dataframe\">\n",
       "  <thead>\n",
       "    <tr style=\"text-align: right;\">\n",
       "      <th></th>\n",
       "      <th>RankEuromonitor</th>\n",
       "      <th>RankMastercard</th>\n",
       "      <th>City</th>\n",
       "      <th>Country</th>\n",
       "      <th>Arrivals 2017Euromonitor</th>\n",
       "      <th>Arrivals 2016Mastercard</th>\n",
       "      <th>Growthin arrivalsEuromonitor</th>\n",
       "      <th>Income(billions $)Mastercard</th>\n",
       "    </tr>\n",
       "  </thead>\n",
       "  <tbody>\n",
       "    <tr>\n",
       "      <td>0</td>\n",
       "      <td>1.0</td>\n",
       "      <td>11.0</td>\n",
       "      <td>Hong Kong</td>\n",
       "      <td>Hong Kong</td>\n",
       "      <td>25695800.0</td>\n",
       "      <td>8370000.0</td>\n",
       "      <td>−3.1 %</td>\n",
       "      <td>6.84</td>\n",
       "    </tr>\n",
       "    <tr>\n",
       "      <td>1</td>\n",
       "      <td>2.0</td>\n",
       "      <td>1.0</td>\n",
       "      <td>Bangkok</td>\n",
       "      <td>Thailand</td>\n",
       "      <td>23270600.0</td>\n",
       "      <td>21470000.0</td>\n",
       "      <td>9.5 %</td>\n",
       "      <td>14.84</td>\n",
       "    </tr>\n",
       "    <tr>\n",
       "      <td>2</td>\n",
       "      <td>3.0</td>\n",
       "      <td>2.0</td>\n",
       "      <td>London</td>\n",
       "      <td>United Kingdom</td>\n",
       "      <td>19842800.0</td>\n",
       "      <td>19880000.0</td>\n",
       "      <td>3.4 %</td>\n",
       "      <td>19.76</td>\n",
       "    </tr>\n",
       "    <tr>\n",
       "      <td>3</td>\n",
       "      <td>4.0</td>\n",
       "      <td>6.0</td>\n",
       "      <td>Singapore</td>\n",
       "      <td>Singapore</td>\n",
       "      <td>17681800.0</td>\n",
       "      <td>12110000.0</td>\n",
       "      <td>6.1 %</td>\n",
       "      <td>12.54</td>\n",
       "    </tr>\n",
       "    <tr>\n",
       "      <td>4</td>\n",
       "      <td>5.0</td>\n",
       "      <td>NaN</td>\n",
       "      <td>Macau</td>\n",
       "      <td>Macau</td>\n",
       "      <td>16299100.0</td>\n",
       "      <td>NaN</td>\n",
       "      <td>5.9 %</td>\n",
       "      <td>NaN</td>\n",
       "    </tr>\n",
       "  </tbody>\n",
       "</table>\n",
       "</div>"
      ],
      "text/plain": [
       "   RankEuromonitor  RankMastercard       City         Country  \\\n",
       "0              1.0            11.0  Hong Kong       Hong Kong   \n",
       "1              2.0             1.0    Bangkok        Thailand   \n",
       "2              3.0             2.0     London  United Kingdom   \n",
       "3              4.0             6.0  Singapore       Singapore   \n",
       "4              5.0             NaN      Macau           Macau   \n",
       "\n",
       "   Arrivals 2017Euromonitor  Arrivals 2016Mastercard  \\\n",
       "0                25695800.0                8370000.0   \n",
       "1                23270600.0               21470000.0   \n",
       "2                19842800.0               19880000.0   \n",
       "3                17681800.0               12110000.0   \n",
       "4                16299100.0                      NaN   \n",
       "\n",
       "  Growthin arrivalsEuromonitor  Income(billions $)Mastercard  \n",
       "0                       −3.1 %                          6.84  \n",
       "1                        9.5 %                         14.84  \n",
       "2                        3.4 %                         19.76  \n",
       "3                        6.1 %                         12.54  \n",
       "4                        5.9 %                           NaN  "
      ]
     },
     "execution_count": 64,
     "metadata": {},
     "output_type": "execute_result"
    }
   ],
   "source": [
    "top_cities = pd.read_html('https://en.wikipedia.org/wiki/List_of_cities_by_international_visitors')\n",
    "top_cities = top_cities[0]\n",
    "top_cities.head()"
   ]
  },
  {
   "cell_type": "markdown",
   "metadata": {},
   "source": [
    "Wikipedia provides two rankings. We are interested in Euromonitor's ranking, so let's drop all Mastercard's information. Also, let's drop all cities which belongs only to Mastercard's ranking."
   ]
  },
  {
   "cell_type": "code",
   "execution_count": 65,
   "metadata": {},
   "outputs": [
    {
     "name": "stdout",
     "output_type": "stream",
     "text": [
      "Now we have just 100 cities in our dataframe!\n"
     ]
    }
   ],
   "source": [
    "top_cities = top_cities[top_cities['RankEuromonitor'].notnull()]\n",
    "top_cities.drop(['RankMastercard', 'Income(billions $)Mastercard', 'Arrivals 2016Mastercard'], axis=1, inplace=True)\n",
    "print('Now we have just {} cities in our dataframe!'.format(top_cities.shape[0]))"
   ]
  },
  {
   "cell_type": "markdown",
   "metadata": {},
   "source": [
    "To this project the position in the ranking and number of arrivals are not important. We will also drop them and rename columns for better understanding."
   ]
  },
  {
   "cell_type": "code",
   "execution_count": 66,
   "metadata": {},
   "outputs": [
    {
     "data": {
      "text/html": [
       "<div>\n",
       "<style scoped>\n",
       "    .dataframe tbody tr th:only-of-type {\n",
       "        vertical-align: middle;\n",
       "    }\n",
       "\n",
       "    .dataframe tbody tr th {\n",
       "        vertical-align: top;\n",
       "    }\n",
       "\n",
       "    .dataframe thead th {\n",
       "        text-align: right;\n",
       "    }\n",
       "</style>\n",
       "<table border=\"1\" class=\"dataframe\">\n",
       "  <thead>\n",
       "    <tr style=\"text-align: right;\">\n",
       "      <th></th>\n",
       "      <th>City</th>\n",
       "      <th>Country</th>\n",
       "      <th>Arr_growth</th>\n",
       "    </tr>\n",
       "  </thead>\n",
       "  <tbody>\n",
       "    <tr>\n",
       "      <td>0</td>\n",
       "      <td>Hong Kong</td>\n",
       "      <td>Hong Kong</td>\n",
       "      <td>−3.1 %</td>\n",
       "    </tr>\n",
       "    <tr>\n",
       "      <td>1</td>\n",
       "      <td>Bangkok</td>\n",
       "      <td>Thailand</td>\n",
       "      <td>9.5 %</td>\n",
       "    </tr>\n",
       "    <tr>\n",
       "      <td>2</td>\n",
       "      <td>London</td>\n",
       "      <td>United Kingdom</td>\n",
       "      <td>3.4 %</td>\n",
       "    </tr>\n",
       "    <tr>\n",
       "      <td>3</td>\n",
       "      <td>Singapore</td>\n",
       "      <td>Singapore</td>\n",
       "      <td>6.1 %</td>\n",
       "    </tr>\n",
       "    <tr>\n",
       "      <td>4</td>\n",
       "      <td>Macau</td>\n",
       "      <td>Macau</td>\n",
       "      <td>5.9 %</td>\n",
       "    </tr>\n",
       "  </tbody>\n",
       "</table>\n",
       "</div>"
      ],
      "text/plain": [
       "        City         Country Arr_growth\n",
       "0  Hong Kong       Hong Kong     −3.1 %\n",
       "1    Bangkok        Thailand      9.5 %\n",
       "2     London  United Kingdom      3.4 %\n",
       "3  Singapore       Singapore      6.1 %\n",
       "4      Macau           Macau      5.9 %"
      ]
     },
     "execution_count": 66,
     "metadata": {},
     "output_type": "execute_result"
    }
   ],
   "source": [
    "top_cities.drop(['RankEuromonitor', 'Arrivals 2017Euromonitor'], axis=1, inplace=True)\n",
    "top_cities.columns = ['City', 'Country', 'Arr_growth']\n",
    "top_cities.reset_index(drop=True)\n",
    "top_cities.head()"
   ]
  },
  {
   "cell_type": "markdown",
   "metadata": {},
   "source": [
    "Let's check column types."
   ]
  },
  {
   "cell_type": "code",
   "execution_count": 67,
   "metadata": {},
   "outputs": [
    {
     "data": {
      "text/plain": [
       "City          object\n",
       "Country       object\n",
       "Arr_growth    object\n",
       "dtype: object"
      ]
     },
     "execution_count": 67,
     "metadata": {},
     "output_type": "execute_result"
    }
   ],
   "source": [
    "top_cities.dtypes"
   ]
  },
  {
   "cell_type": "markdown",
   "metadata": {},
   "source": [
    "As we are interested only in cities with positive growth arrivals rate, let's cast **Arr_growth** to float."
   ]
  },
  {
   "cell_type": "code",
   "execution_count": 68,
   "metadata": {},
   "outputs": [
    {
     "data": {
      "text/plain": [
       "City           object\n",
       "Country        object\n",
       "Arr_growth    float64\n",
       "dtype: object"
      ]
     },
     "execution_count": 68,
     "metadata": {},
     "output_type": "execute_result"
    }
   ],
   "source": [
    "top_cities['Arr_growth'] = top_cities['Arr_growth'].replace('%','', regex=True)\n",
    "top_cities['Arr_growth'] = top_cities['Arr_growth'].replace(',','.', regex=True)\n",
    "top_cities['Arr_growth'] = top_cities['Arr_growth'].replace('−','-', regex=True).astype(float)\n",
    "top_cities.dtypes"
   ]
  },
  {
   "cell_type": "markdown",
   "metadata": {},
   "source": [
    "Great, it's float now! Now let's take off all cities which have growth arrival rate below zero. "
   ]
  },
  {
   "cell_type": "code",
   "execution_count": 69,
   "metadata": {},
   "outputs": [],
   "source": [
    "top_cities = top_cities.drop(top_cities[(top_cities['Arr_growth'] < 0)].index)"
   ]
  },
  {
   "cell_type": "markdown",
   "metadata": {},
   "source": [
    "### Geo-spacial Reference"
   ]
  },
  {
   "cell_type": "markdown",
   "metadata": {},
   "source": [
    "Now let's use pycountry_convert library to search continent information of each city."
   ]
  },
  {
   "cell_type": "code",
   "execution_count": 70,
   "metadata": {},
   "outputs": [
    {
     "data": {
      "text/plain": [
       "AS    44\n",
       "EU    25\n",
       "NA    12\n",
       "OC     3\n",
       "AF     3\n",
       "SA     1\n",
       "Name: Continent, dtype: int64"
      ]
     },
     "execution_count": 70,
     "metadata": {},
     "output_type": "execute_result"
    }
   ],
   "source": [
    "top_cities['Continent'] = ''\n",
    "\n",
    "for i, row in top_cities.iterrows():\n",
    "    country_code = pc.country_name_to_country_alpha2(row['Country'], cn_name_format=\"default\") \n",
    "    continent_name  = pc.country_alpha2_to_continent_code(country_code)\n",
    "    top_cities.loc[i, 'Continent'] = continent_name\n",
    "    \n",
    "top_cities['Continent'].value_counts()"
   ]
  },
  {
   "cell_type": "markdown",
   "metadata": {},
   "source": [
    "Pycountry_convert assumes that North America (NA) and South America (SA) are different continents. Let's put them together and label them as AM ('America')."
   ]
  },
  {
   "cell_type": "code",
   "execution_count": 71,
   "metadata": {},
   "outputs": [
    {
     "data": {
      "text/plain": [
       "AS    44\n",
       "EU    25\n",
       "AM    13\n",
       "OC     3\n",
       "AF     3\n",
       "Name: Continent, dtype: int64"
      ]
     },
     "execution_count": 71,
     "metadata": {},
     "output_type": "execute_result"
    }
   ],
   "source": [
    "top_cities['Continent'].replace('NA', 'AM', inplace=True)\n",
    "top_cities['Continent'].replace('SA', 'AM', inplace=True)\n",
    "top_cities['Continent'].value_counts()"
   ]
  },
  {
   "cell_type": "markdown",
   "metadata": {},
   "source": [
    "Finally, let's get latitudes and longitudes for each city. To do so we are going to use Geopy library and them visualize our set of cities in the map."
   ]
  },
  {
   "cell_type": "code",
   "execution_count": 72,
   "metadata": {},
   "outputs": [
    {
     "data": {
      "text/html": [
       "<div>\n",
       "<style scoped>\n",
       "    .dataframe tbody tr th:only-of-type {\n",
       "        vertical-align: middle;\n",
       "    }\n",
       "\n",
       "    .dataframe tbody tr th {\n",
       "        vertical-align: top;\n",
       "    }\n",
       "\n",
       "    .dataframe thead th {\n",
       "        text-align: right;\n",
       "    }\n",
       "</style>\n",
       "<table border=\"1\" class=\"dataframe\">\n",
       "  <thead>\n",
       "    <tr style=\"text-align: right;\">\n",
       "      <th></th>\n",
       "      <th>City</th>\n",
       "      <th>Country</th>\n",
       "      <th>Arr_growth</th>\n",
       "      <th>Continent</th>\n",
       "      <th>Lat</th>\n",
       "      <th>Lng</th>\n",
       "    </tr>\n",
       "  </thead>\n",
       "  <tbody>\n",
       "    <tr>\n",
       "      <td>1</td>\n",
       "      <td>Bangkok</td>\n",
       "      <td>Thailand</td>\n",
       "      <td>9.5</td>\n",
       "      <td>AS</td>\n",
       "      <td>13.753893</td>\n",
       "      <td>100.816080</td>\n",
       "    </tr>\n",
       "    <tr>\n",
       "      <td>2</td>\n",
       "      <td>London</td>\n",
       "      <td>United Kingdom</td>\n",
       "      <td>3.4</td>\n",
       "      <td>EU</td>\n",
       "      <td>51.507322</td>\n",
       "      <td>-0.127647</td>\n",
       "    </tr>\n",
       "    <tr>\n",
       "      <td>3</td>\n",
       "      <td>Singapore</td>\n",
       "      <td>Singapore</td>\n",
       "      <td>6.1</td>\n",
       "      <td>AS</td>\n",
       "      <td>1.340863</td>\n",
       "      <td>103.830392</td>\n",
       "    </tr>\n",
       "    <tr>\n",
       "      <td>4</td>\n",
       "      <td>Macau</td>\n",
       "      <td>Macau</td>\n",
       "      <td>5.9</td>\n",
       "      <td>AS</td>\n",
       "      <td>22.195629</td>\n",
       "      <td>113.548785</td>\n",
       "    </tr>\n",
       "    <tr>\n",
       "      <td>5</td>\n",
       "      <td>Dubai</td>\n",
       "      <td>United Arab Emirates</td>\n",
       "      <td>7.7</td>\n",
       "      <td>AS</td>\n",
       "      <td>25.075010</td>\n",
       "      <td>55.188761</td>\n",
       "    </tr>\n",
       "  </tbody>\n",
       "</table>\n",
       "</div>"
      ],
      "text/plain": [
       "        City               Country  Arr_growth Continent        Lat  \\\n",
       "1    Bangkok              Thailand         9.5        AS  13.753893   \n",
       "2     London        United Kingdom         3.4        EU  51.507322   \n",
       "3  Singapore             Singapore         6.1        AS   1.340863   \n",
       "4      Macau                 Macau         5.9        AS  22.195629   \n",
       "5      Dubai  United Arab Emirates         7.7        AS  25.075010   \n",
       "\n",
       "          Lng  \n",
       "1  100.816080  \n",
       "2   -0.127647  \n",
       "3  103.830392  \n",
       "4  113.548785  \n",
       "5   55.188761  "
      ]
     },
     "execution_count": 72,
     "metadata": {},
     "output_type": "execute_result"
    }
   ],
   "source": [
    "geolocator = Nominatim(user_agent=\"explorer\")\n",
    "\n",
    "top_cities['Lat'] = float(0)\n",
    "top_cities['Lng'] = float(0)\n",
    "\n",
    "for i, row in top_cities.iterrows():\n",
    "    location = geolocator.geocode(str(row['City'] + ', ' + row['Country']))\n",
    "    top_cities.loc[i, 'Lat'] = location.latitude\n",
    "    top_cities.loc[i, 'Lng'] = location.longitude\n",
    "\n",
    "top_cities.head()"
   ]
  },
  {
   "cell_type": "code",
   "execution_count": null,
   "metadata": {},
   "outputs": [],
   "source": [
    "world_map = folium.Map(location=[0,25], zoom_start = 2)\n",
    "    \n",
    "# add cities to map\n",
    "for lat, lng, city in zip(top_cities['Lat'], \n",
    "                        top_cities['Lng'], \n",
    "                        top_cities['City']):\n",
    "    \n",
    "    label = '{}'.format(city)\n",
    "    label = folium.Popup(label, parse_html=True)\n",
    "    folium.CircleMarker(\n",
    "        [lat, lng],\n",
    "        radius=5,\n",
    "        popup=label,\n",
    "        color='green',\n",
    "        fill=True,\n",
    "        fill_color='#3186cc',\n",
    "        fill_opacity=0.7,\n",
    "        parse_html=False).add_to(world_map)  \n",
    "        \n",
    "world_map"
   ]
  },
  {
   "cell_type": "markdown",
   "metadata": {},
   "source": [
    "![](Data Science Project/Resources/cluster_map.PNG) "
   ]
  },
  {
   "cell_type": "markdown",
   "metadata": {},
   "source": [
    "Now we are going to use Foursquare API to search for venues around city centers. First we'll build a function to loop over **top_cities** using Foursquare function **explore**."
   ]
  },
  {
   "cell_type": "code",
   "execution_count": 96,
   "metadata": {},
   "outputs": [],
   "source": [
    "# setting API credentials\n",
    "client_id = '______________________________________' # Foursquare ID\n",
    "client_secret = '______________________________________' # Foursquare Secret\n",
    "version = '20180605' # Foursquare API version\n",
    "\n",
    "\n",
    "def getNearbyVenues(cities, latitudes, longitudes, radius=5000, limit=100):\n",
    "\n",
    "    venues_list=[]\n",
    "    \n",
    "    for city, lat, lng in zip(cities, latitudes, longitudes):\n",
    "        print('Searching near', city)\n",
    "                \n",
    "        # create the API request URL\n",
    "        url = 'https://api.foursquare.com/v2/venues/explore?&client_id={}&client_secret={}&v={}&ll={},{}&radius={}&limit={}'.format(\n",
    "            client_id, \n",
    "            client_secret, \n",
    "            version, \n",
    "            lat, \n",
    "            lng, \n",
    "            radius, \n",
    "            limit)\n",
    "            \n",
    "        # make the GET request\n",
    "        results = requests.get(url).json()[\"response\"]['groups'][0]['items']\n",
    "        \n",
    "        # return only relevant information for each nearby venue\n",
    "        venues_list.append([(\n",
    "            city, \n",
    "            lat, \n",
    "            lng, \n",
    "            v['venue']['name'], \n",
    "            v['venue']['location']['lat'], \n",
    "            v['venue']['location']['lng'],  \n",
    "            v['venue']['categories'][0]['id']) for v in results])\n",
    "\n",
    "    nearby_venues = pd.DataFrame([item for venue_list in venues_list for item in venue_list])\n",
    "    nearby_venues.columns = ['City', \n",
    "                  'City_lat', \n",
    "                  'City_lng', \n",
    "                  'Venue', \n",
    "                  'Venue_lat', \n",
    "                  'Venue_lng', \n",
    "                  'Category_ID']\n",
    "    \n",
    "    return(nearby_venues)"
   ]
  },
  {
   "cell_type": "markdown",
   "metadata": {},
   "source": [
    "Now we are able to get list of venues near the city centers. As Foursquare API return up to 100 venues per call, this will be maximum number of venues per city."
   ]
  },
  {
   "cell_type": "code",
   "execution_count": 78,
   "metadata": {},
   "outputs": [
    {
     "name": "stdout",
     "output_type": "stream",
     "text": [
      "Searching near Bangkok\n",
      "Searching near London\n",
      "Searching near Singapore\n",
      "Searching near Macau\n",
      "Searching near Dubai\n",
      "Searching near New York City\n",
      "Searching near Shenzhen\n",
      "Searching near Kuala Lumpur\n",
      "Searching near Phuket\n",
      "Searching near Delhi\n",
      "Searching near Tokyo\n",
      "Searching near Rome\n",
      "Searching near Taipei\n",
      "Searching near Guangzhou\n",
      "Searching near Mumbai\n",
      "Searching near Mecca\n",
      "Searching near Prague\n",
      "Searching near Miami\n",
      "Searching near Barcelona\n",
      "Searching near Pattaya\n",
      "Searching near Shanghai\n",
      "Searching near Milan\n",
      "Searching near Cancún\n",
      "Searching near Agra\n",
      "Searching near Amsterdam\n",
      "Searching near Antalya\n",
      "Searching near Denpasar\n",
      "Searching near Osaka\n",
      "Searching near Los Angeles\n",
      "Searching near Vienna\n",
      "Searching near Berlin\n",
      "Searching near Madrid\n",
      "Searching near Johor Bahru\n",
      "Searching near Johannesburg\n",
      "Searching near Riyadh\n",
      "Searching near Ho Chi Minh City\n",
      "Searching near Venice\n",
      "Searching near Orlando\n",
      "Searching near Chennai\n",
      "Searching near Jaipur\n",
      "Searching near Athens\n",
      "Searching near Dublin\n",
      "Searching near Florence\n",
      "Searching near Moscow\n",
      "Searching near Toronto\n",
      "Searching near Hanoi\n",
      "Searching near Ha Long\n",
      "Searching near Sydney\n",
      "Searching near Budapest\n",
      "Searching near Punta Cana\n",
      "Searching near San Francisco\n",
      "Searching near Jakarta\n",
      "Searching near Dammam\n",
      "Searching near Munich\n",
      "Searching near Lisbon\n",
      "Searching near Zhuhai\n",
      "Searching near Heraklion\n",
      "Searching near Penang Island\n",
      "Searching near Cairo\n",
      "Searching near Copenhagen\n",
      "Searching near Kyoto\n",
      "Searching near Phnom Penh\n",
      "Searching near Doha\n",
      "Searching near Chiang Mai\n",
      "Searching near Edirne\n",
      "Searching near Jerusalem\n",
      "Searching near Saint Petersburg\n",
      "Searching near Warsaw\n",
      "Searching near Melbourne\n",
      "Searching near Marrakesh\n",
      "Searching near Vancouver\n",
      "Searching near Auckland\n",
      "Searching near Tel Aviv\n",
      "Searching near Honolulu\n",
      "Searching near Artvin\n",
      "Searching near Kolkata\n",
      "Searching near Guilin\n",
      "Searching near Brussels\n",
      "Searching near Frankfurt am Main\n",
      "Searching near Stockholm\n",
      "Searching near Mexico City\n",
      "Searching near Siem Reap\n",
      "Searching near Lima\n",
      "Searching near Rhodes\n",
      "Searching near Colombo\n",
      "Searching near Abu Dhabi\n",
      "Searching near Taichung\n",
      "Searching near Washington D.C.\n"
     ]
    },
    {
     "data": {
      "text/html": [
       "<div>\n",
       "<style scoped>\n",
       "    .dataframe tbody tr th:only-of-type {\n",
       "        vertical-align: middle;\n",
       "    }\n",
       "\n",
       "    .dataframe tbody tr th {\n",
       "        vertical-align: top;\n",
       "    }\n",
       "\n",
       "    .dataframe thead th {\n",
       "        text-align: right;\n",
       "    }\n",
       "</style>\n",
       "<table border=\"1\" class=\"dataframe\">\n",
       "  <thead>\n",
       "    <tr style=\"text-align: right;\">\n",
       "      <th></th>\n",
       "      <th>City</th>\n",
       "      <th>City_lat</th>\n",
       "      <th>City_lng</th>\n",
       "      <th>Venue</th>\n",
       "      <th>Venue_lat</th>\n",
       "      <th>Venue_lng</th>\n",
       "      <th>Category_ID</th>\n",
       "    </tr>\n",
       "  </thead>\n",
       "  <tbody>\n",
       "    <tr>\n",
       "      <td>0</td>\n",
       "      <td>Bangkok</td>\n",
       "      <td>13.753893</td>\n",
       "      <td>100.81608</td>\n",
       "      <td>Starbucks (สตาร์บัคส์)</td>\n",
       "      <td>13.756659</td>\n",
       "      <td>100.798409</td>\n",
       "      <td>4bf58dd8d48988d1e0931735</td>\n",
       "    </tr>\n",
       "    <tr>\n",
       "      <td>1</td>\n",
       "      <td>Bangkok</td>\n",
       "      <td>13.753893</td>\n",
       "      <td>100.81608</td>\n",
       "      <td>Café Amazon (คาเฟ่ อเมซอน)</td>\n",
       "      <td>13.755277</td>\n",
       "      <td>100.797188</td>\n",
       "      <td>4bf58dd8d48988d1e0931735</td>\n",
       "    </tr>\n",
       "    <tr>\n",
       "      <td>2</td>\n",
       "      <td>Bangkok</td>\n",
       "      <td>13.753893</td>\n",
       "      <td>100.81608</td>\n",
       "      <td>ตลาดนัดวัดพลฯ</td>\n",
       "      <td>13.720410</td>\n",
       "      <td>100.795113</td>\n",
       "      <td>4bf58dd8d48988d1f7941735</td>\n",
       "    </tr>\n",
       "    <tr>\n",
       "      <td>3</td>\n",
       "      <td>Bangkok</td>\n",
       "      <td>13.753893</td>\n",
       "      <td>100.81608</td>\n",
       "      <td>ข้าวต้มฉลองชัย</td>\n",
       "      <td>13.747742</td>\n",
       "      <td>100.793052</td>\n",
       "      <td>4bf58dd8d48988d142941735</td>\n",
       "    </tr>\n",
       "    <tr>\n",
       "      <td>4</td>\n",
       "      <td>Bangkok</td>\n",
       "      <td>13.753893</td>\n",
       "      <td>100.81608</td>\n",
       "      <td>ก๋วยเตี๋ยวไก่มะระบุฟเฟ่ต์</td>\n",
       "      <td>13.719221</td>\n",
       "      <td>100.797171</td>\n",
       "      <td>4bf58dd8d48988d1d1941735</td>\n",
       "    </tr>\n",
       "  </tbody>\n",
       "</table>\n",
       "</div>"
      ],
      "text/plain": [
       "      City   City_lat   City_lng                       Venue  Venue_lat  \\\n",
       "0  Bangkok  13.753893  100.81608      Starbucks (สตาร์บัคส์)  13.756659   \n",
       "1  Bangkok  13.753893  100.81608  Café Amazon (คาเฟ่ อเมซอน)  13.755277   \n",
       "2  Bangkok  13.753893  100.81608               ตลาดนัดวัดพลฯ  13.720410   \n",
       "3  Bangkok  13.753893  100.81608              ข้าวต้มฉลองชัย  13.747742   \n",
       "4  Bangkok  13.753893  100.81608   ก๋วยเตี๋ยวไก่มะระบุฟเฟ่ต์  13.719221   \n",
       "\n",
       "    Venue_lng               Category_ID  \n",
       "0  100.798409  4bf58dd8d48988d1e0931735  \n",
       "1  100.797188  4bf58dd8d48988d1e0931735  \n",
       "2  100.795113  4bf58dd8d48988d1f7941735  \n",
       "3  100.793052  4bf58dd8d48988d142941735  \n",
       "4  100.797171  4bf58dd8d48988d1d1941735  "
      ]
     },
     "execution_count": 78,
     "metadata": {},
     "output_type": "execute_result"
    }
   ],
   "source": [
    "top_cities_venues = getNearbyVenues(cities=top_cities['City'], \n",
    "                                latitudes=top_cities['Lat'],\n",
    "                                longitudes=top_cities['Lng'])\n",
    "\n",
    "top_cities_venues.head()"
   ]
  },
  {
   "cell_type": "markdown",
   "metadata": {},
   "source": [
    "Each category in Foursquare can grouped in one specific type of tourism. We'll load a CSV file which contain Foursquare categories and their tourism types."
   ]
  },
  {
   "cell_type": "code",
   "execution_count": 79,
   "metadata": {},
   "outputs": [
    {
     "data": {
      "text/plain": [
       "array(['Arts & Culture', 'Entertainment', 'Sports', 'Shopping', 'Food',\n",
       "       'Night Life', 'Nature'], dtype=object)"
      ]
     },
     "execution_count": 79,
     "metadata": {},
     "output_type": "execute_result"
    }
   ],
   "source": [
    "tc_categories = pd.read_csv('foursquare_groups.csv')\n",
    "tc_categories['category_group'].unique()"
   ]
  },
  {
   "cell_type": "markdown",
   "metadata": {},
   "source": [
    "Let's attach **category_group** to **top_cities_venues**."
   ]
  },
  {
   "cell_type": "code",
   "execution_count": 80,
   "metadata": {},
   "outputs": [
    {
     "data": {
      "text/html": [
       "<div>\n",
       "<style scoped>\n",
       "    .dataframe tbody tr th:only-of-type {\n",
       "        vertical-align: middle;\n",
       "    }\n",
       "\n",
       "    .dataframe tbody tr th {\n",
       "        vertical-align: top;\n",
       "    }\n",
       "\n",
       "    .dataframe thead th {\n",
       "        text-align: right;\n",
       "    }\n",
       "</style>\n",
       "<table border=\"1\" class=\"dataframe\">\n",
       "  <thead>\n",
       "    <tr style=\"text-align: right;\">\n",
       "      <th></th>\n",
       "      <th>City</th>\n",
       "      <th>City_lat</th>\n",
       "      <th>City_lng</th>\n",
       "      <th>Venue</th>\n",
       "      <th>Venue_lat</th>\n",
       "      <th>Venue_lng</th>\n",
       "      <th>Category_ID</th>\n",
       "      <th>Category_group</th>\n",
       "    </tr>\n",
       "  </thead>\n",
       "  <tbody>\n",
       "    <tr>\n",
       "      <td>0</td>\n",
       "      <td>Bangkok</td>\n",
       "      <td>13.753893</td>\n",
       "      <td>100.81608</td>\n",
       "      <td>Starbucks (สตาร์บัคส์)</td>\n",
       "      <td>13.756659</td>\n",
       "      <td>100.798409</td>\n",
       "      <td>4bf58dd8d48988d1e0931735</td>\n",
       "      <td>Food</td>\n",
       "    </tr>\n",
       "    <tr>\n",
       "      <td>1</td>\n",
       "      <td>Bangkok</td>\n",
       "      <td>13.753893</td>\n",
       "      <td>100.81608</td>\n",
       "      <td>Café Amazon (คาเฟ่ อเมซอน)</td>\n",
       "      <td>13.755277</td>\n",
       "      <td>100.797188</td>\n",
       "      <td>4bf58dd8d48988d1e0931735</td>\n",
       "      <td>Food</td>\n",
       "    </tr>\n",
       "    <tr>\n",
       "      <td>2</td>\n",
       "      <td>Bangkok</td>\n",
       "      <td>13.753893</td>\n",
       "      <td>100.81608</td>\n",
       "      <td>ตลาดนัดวัดพลฯ</td>\n",
       "      <td>13.720410</td>\n",
       "      <td>100.795113</td>\n",
       "      <td>4bf58dd8d48988d1f7941735</td>\n",
       "      <td>Shopping</td>\n",
       "    </tr>\n",
       "    <tr>\n",
       "      <td>3</td>\n",
       "      <td>Bangkok</td>\n",
       "      <td>13.753893</td>\n",
       "      <td>100.81608</td>\n",
       "      <td>ข้าวต้มฉลองชัย</td>\n",
       "      <td>13.747742</td>\n",
       "      <td>100.793052</td>\n",
       "      <td>4bf58dd8d48988d142941735</td>\n",
       "      <td>Food</td>\n",
       "    </tr>\n",
       "    <tr>\n",
       "      <td>4</td>\n",
       "      <td>Bangkok</td>\n",
       "      <td>13.753893</td>\n",
       "      <td>100.81608</td>\n",
       "      <td>ก๋วยเตี๋ยวไก่มะระบุฟเฟ่ต์</td>\n",
       "      <td>13.719221</td>\n",
       "      <td>100.797171</td>\n",
       "      <td>4bf58dd8d48988d1d1941735</td>\n",
       "      <td>Food</td>\n",
       "    </tr>\n",
       "  </tbody>\n",
       "</table>\n",
       "</div>"
      ],
      "text/plain": [
       "      City   City_lat   City_lng                       Venue  Venue_lat  \\\n",
       "0  Bangkok  13.753893  100.81608      Starbucks (สตาร์บัคส์)  13.756659   \n",
       "1  Bangkok  13.753893  100.81608  Café Amazon (คาเฟ่ อเมซอน)  13.755277   \n",
       "2  Bangkok  13.753893  100.81608               ตลาดนัดวัดพลฯ  13.720410   \n",
       "3  Bangkok  13.753893  100.81608              ข้าวต้มฉลองชัย  13.747742   \n",
       "4  Bangkok  13.753893  100.81608   ก๋วยเตี๋ยวไก่มะระบุฟเฟ่ต์  13.719221   \n",
       "\n",
       "    Venue_lng               Category_ID Category_group  \n",
       "0  100.798409  4bf58dd8d48988d1e0931735           Food  \n",
       "1  100.797188  4bf58dd8d48988d1e0931735           Food  \n",
       "2  100.795113  4bf58dd8d48988d1f7941735       Shopping  \n",
       "3  100.793052  4bf58dd8d48988d142941735           Food  \n",
       "4  100.797171  4bf58dd8d48988d1d1941735           Food  "
      ]
     },
     "execution_count": 80,
     "metadata": {},
     "output_type": "execute_result"
    }
   ],
   "source": [
    "top_cities_venues['Category_group'] = top_cities_venues['Category_ID'].map(tc_categories.set_index('category_id')['category_group'])\n",
    "top_cities_venues.head()"
   ]
  },
  {
   "cell_type": "markdown",
   "metadata": {},
   "source": [
    "## Methodology <a name=\"methodology\"></a>\n",
    "\n",
    "In first step we have collected required **data: most visited cities** and identified **venues near city centers**. Also, we have labeled each venue based on its type of tourism.\n",
    "\n",
    "Second step in our analysis will be exploration of **cities** and **venues**. We'll use boxplots to identify which arrivals growth rate behave differently than the others. These outliers can influence the analysis and thus the interpretation of the data. Also, we'll analyze the number of venues in each city. \n",
    "\n",
    "In third and final step we will focus on finding the best number of K to run K-Means Clustering Algorithm. To do so we'll run the algorithm with K in a range of numbers and decide based on Elbow Method. After clustering, we'll graphically explore each cluster. At the end we'll be able to identify cluster's characteristics and label them accordingly. "
   ]
  },
  {
   "cell_type": "markdown",
   "metadata": {},
   "source": [
    "## Analysis <a name=\"analysis\"></a>\n",
    "\n",
    "Let's perform basic explanatory data analysis and derive extra info from our raw data. First let's create a boxplot using arrivals growth rates for each continent."
   ]
  },
  {
   "cell_type": "code",
   "execution_count": 81,
   "metadata": {},
   "outputs": [
    {
     "data": {
      "text/plain": [
       "<matplotlib.axes._subplots.AxesSubplot at 0x7f22ecfc84a8>"
      ]
     },
     "execution_count": 81,
     "metadata": {},
     "output_type": "execute_result"
    },
    {
     "data": {
      "image/png": "[encoded data removed]",
      "text/plain": [
       "<Figure size 432x288 with 1 Axes>"
      ]
     },
     "metadata": {
      "needs_background": "light"
     },
     "output_type": "display_data"
    }
   ],
   "source": [
    "sns.boxplot(x=top_cities['Continent'], y=top_cities['Arr_growth'])"
   ]
  },
  {
   "cell_type": "markdown",
   "metadata": {},
   "source": [
    "Some cities in Asia have discrepant arrivals growth rates. It can influence the analysis and thus the interpretation of the data. We choose to exclude those cities of our analysis."
   ]
  },
  {
   "cell_type": "code",
   "execution_count": 82,
   "metadata": {},
   "outputs": [],
   "source": [
    "p_25, p_75 = np.percentile(top_cities[top_cities['Continent'] == 'AS']['Arr_growth'].sort_values(), [25, 75])\n",
    "\n",
    "iqr = p_75 - p_25\n",
    "upper_bound = p_75 + 1.5 * iqr\n",
    "lower_bound  = p_25 - 1.5 * iqr\n",
    "\n",
    "top_cities = top_cities.drop(top_cities[(top_cities['Continent'] == 'AS') & (top_cities['Arr_growth'] > upper_bound)].index)\n",
    "top_cities = top_cities.drop(top_cities[(top_cities['Continent'] == 'AS') & (top_cities['Arr_growth'] < lower_bound)].index)"
   ]
  },
  {
   "cell_type": "markdown",
   "metadata": {},
   "source": [
    "We can check now number of venues we got from Foursquare API Let's see it in a bar chart. "
   ]
  },
  {
   "cell_type": "code",
   "execution_count": 83,
   "metadata": {},
   "outputs": [
    {
     "data": {
      "text/plain": [
       "<matplotlib.axes._subplots.AxesSubplot at 0x7f22e6213ba8>"
      ]
     },
     "execution_count": 83,
     "metadata": {},
     "output_type": "execute_result"
    },
    {
     "data": {
      "image/png": "[encoded data removed]",
      "text/plain": [
       "<Figure size 432x288 with 1 Axes>"
      ]
     },
     "metadata": {
      "needs_background": "light"
     },
     "output_type": "display_data"
    }
   ],
   "source": [
    "venues_count = top_cities_venues.groupby('City', as_index=False).count()\n",
    "venues_count['City_lng'].hist(bins=10)"
   ]
  },
  {
   "cell_type": "markdown",
   "metadata": {},
   "source": [
    "As we can see for some cities we got a small number of venues. We will assume for this project that minimum acceptable number of venues per city is 30. Let's drop cities whit numbers of venues below 30."
   ]
  },
  {
   "cell_type": "code",
   "execution_count": 84,
   "metadata": {},
   "outputs": [
    {
     "data": {
      "text/plain": [
       "<matplotlib.axes._subplots.AxesSubplot at 0x7f22e5f7ffd0>"
      ]
     },
     "execution_count": 84,
     "metadata": {},
     "output_type": "execute_result"
    },
    {
     "data": {
      "image/png": "[encoded data removed]",
      "text/plain": [
       "<Figure size 432x288 with 1 Axes>"
      ]
     },
     "metadata": {
      "needs_background": "light"
     },
     "output_type": "display_data"
    }
   ],
   "source": [
    "top_cities_venues = top_cities_venues[top_cities_venues.groupby('City')['Category_ID'].transform('count') >= 30]\n",
    "venues_count = top_cities_venues.groupby('City', as_index=False).count()\n",
    "venues_count['City_lng'].hist(bins=10)"
   ]
  },
  {
   "cell_type": "markdown",
   "metadata": {},
   "source": [
    "Perfect! Now let's apply one-hot encoding in **top_cities_venues**."
   ]
  },
  {
   "cell_type": "code",
   "execution_count": 85,
   "metadata": {},
   "outputs": [
    {
     "data": {
      "text/html": [
       "<div>\n",
       "<style scoped>\n",
       "    .dataframe tbody tr th:only-of-type {\n",
       "        vertical-align: middle;\n",
       "    }\n",
       "\n",
       "    .dataframe tbody tr th {\n",
       "        vertical-align: top;\n",
       "    }\n",
       "\n",
       "    .dataframe thead th {\n",
       "        text-align: right;\n",
       "    }\n",
       "</style>\n",
       "<table border=\"1\" class=\"dataframe\">\n",
       "  <thead>\n",
       "    <tr style=\"text-align: right;\">\n",
       "      <th></th>\n",
       "      <th>City</th>\n",
       "      <th>Arts &amp; Culture</th>\n",
       "      <th>Entertainment</th>\n",
       "      <th>Food</th>\n",
       "      <th>Nature</th>\n",
       "      <th>Night Life</th>\n",
       "      <th>Shopping</th>\n",
       "      <th>Sports</th>\n",
       "    </tr>\n",
       "  </thead>\n",
       "  <tbody>\n",
       "    <tr>\n",
       "      <td>0</td>\n",
       "      <td>Bangkok</td>\n",
       "      <td>0</td>\n",
       "      <td>0</td>\n",
       "      <td>1</td>\n",
       "      <td>0</td>\n",
       "      <td>0</td>\n",
       "      <td>0</td>\n",
       "      <td>0</td>\n",
       "    </tr>\n",
       "    <tr>\n",
       "      <td>1</td>\n",
       "      <td>Bangkok</td>\n",
       "      <td>0</td>\n",
       "      <td>0</td>\n",
       "      <td>1</td>\n",
       "      <td>0</td>\n",
       "      <td>0</td>\n",
       "      <td>0</td>\n",
       "      <td>0</td>\n",
       "    </tr>\n",
       "    <tr>\n",
       "      <td>2</td>\n",
       "      <td>Bangkok</td>\n",
       "      <td>0</td>\n",
       "      <td>0</td>\n",
       "      <td>0</td>\n",
       "      <td>0</td>\n",
       "      <td>0</td>\n",
       "      <td>1</td>\n",
       "      <td>0</td>\n",
       "    </tr>\n",
       "    <tr>\n",
       "      <td>3</td>\n",
       "      <td>Bangkok</td>\n",
       "      <td>0</td>\n",
       "      <td>0</td>\n",
       "      <td>1</td>\n",
       "      <td>0</td>\n",
       "      <td>0</td>\n",
       "      <td>0</td>\n",
       "      <td>0</td>\n",
       "    </tr>\n",
       "    <tr>\n",
       "      <td>4</td>\n",
       "      <td>Bangkok</td>\n",
       "      <td>0</td>\n",
       "      <td>0</td>\n",
       "      <td>1</td>\n",
       "      <td>0</td>\n",
       "      <td>0</td>\n",
       "      <td>0</td>\n",
       "      <td>0</td>\n",
       "    </tr>\n",
       "  </tbody>\n",
       "</table>\n",
       "</div>"
      ],
      "text/plain": [
       "      City  Arts & Culture  Entertainment  Food  Nature  Night Life  Shopping  \\\n",
       "0  Bangkok               0              0     1       0           0         0   \n",
       "1  Bangkok               0              0     1       0           0         0   \n",
       "2  Bangkok               0              0     0       0           0         1   \n",
       "3  Bangkok               0              0     1       0           0         0   \n",
       "4  Bangkok               0              0     1       0           0         0   \n",
       "\n",
       "   Sports  \n",
       "0       0  \n",
       "1       0  \n",
       "2       0  \n",
       "3       0  \n",
       "4       0  "
      ]
     },
     "execution_count": 85,
     "metadata": {},
     "output_type": "execute_result"
    }
   ],
   "source": [
    "top_cities_onehot = pd.get_dummies(top_cities_venues[['Category_group']], prefix=\"\", prefix_sep=\"\")\n",
    "\n",
    "# add city name to top_cities_onehot\n",
    "top_cities_onehot['City'] = top_cities_venues['City']\n",
    "fixed_columns = [top_cities_onehot.columns[-1]]+ list(top_cities_onehot.columns[:-1])\n",
    "top_cities_onehot = top_cities_onehot[fixed_columns]\n",
    "top_cities_onehot.head()"
   ]
  },
  {
   "cell_type": "markdown",
   "metadata": {},
   "source": [
    "Now we'll group **top_cities_onehot** by city and by taking the mean of the frequency of each category."
   ]
  },
  {
   "cell_type": "code",
   "execution_count": 86,
   "metadata": {},
   "outputs": [
    {
     "data": {
      "text/plain": [
       "(80, 11)"
      ]
     },
     "execution_count": 86,
     "metadata": {},
     "output_type": "execute_result"
    }
   ],
   "source": [
    "top_cities_grouped = top_cities_onehot.groupby('City').mean().reset_index()\n",
    "top_cities_grouped = top_cities_grouped.join(top_cities[['City','Lat','Lng', 'Continent']].set_index('City'), on='City')\n",
    "top_cities_grouped.dropna(inplace=True)\n",
    "top_cities_grouped.shape"
   ]
  },
  {
   "cell_type": "markdown",
   "metadata": {},
   "source": [
    "Now we are able to start clustering. Our first step will be find best K to use in clustering algorithm. We'll apply K-Means Clustering Algorithm in **top_cities_grouped** setting K from 1 to 15 and plot the sums of squared distances."
   ]
  },
  {
   "cell_type": "code",
   "execution_count": 87,
   "metadata": {},
   "outputs": [
    {
     "data": {
      "image/png": "[encoded data removed]",
      "text/plain": [
       "<Figure size 432x288 with 1 Axes>"
      ]
     },
     "metadata": {
      "needs_background": "light"
     },
     "output_type": "display_data"
    }
   ],
   "source": [
    "top_cities_clustering = top_cities_grouped.drop(['City', 'Lat', 'Lng', 'Continent'], axis=1)\n",
    "\n",
    "Sum_of_squared_distances = []\n",
    "K = range(1,15)\n",
    "\n",
    "for k in K:\n",
    "    km = KMeans(n_clusters=k)\n",
    "    km = km.fit(top_cities_clustering)\n",
    "    Sum_of_squared_distances.append(km.inertia_)\n",
    "\n",
    "plt.plot(K, Sum_of_squared_distances, 'bx-')\n",
    "plt.xlabel('k')\n",
    "plt.ylabel('Sum_of_squared_distances')\n",
    "plt.title('Elbow Method For Optimal k')\n",
    "plt.show()"
   ]
  },
  {
   "cell_type": "markdown",
   "metadata": {},
   "source": [
    "As k increases, the sum of squared distance tends to zero. If we set K to its maximum value n (where n is number of samples) each sample will form its own cluster meaning sum of squared distances equals zero. Using Elbow Method we can see that K=3 is a good value to our dataset, so let's cluster using it!"
   ]
  },
  {
   "cell_type": "code",
   "execution_count": 88,
   "metadata": {},
   "outputs": [
    {
     "data": {
      "text/plain": [
       "array([1, 0, 1, 1, 2, 1, 1, 0, 0, 1, 1, 2, 2, 2, 1, 1, 2, 2, 1, 1, 1, 0,\n",
       "       1, 1, 0, 0, 2, 1, 2, 1, 0, 1, 2, 2, 0, 2, 1, 1, 0, 1, 2, 1, 1, 1,\n",
       "       1, 1, 1, 0, 0, 1, 0, 1, 1, 1, 2, 1, 1, 1, 1, 2, 2, 0, 0, 0, 1, 1,\n",
       "       1, 1, 1, 1, 2, 1, 2, 2, 1, 2, 0, 0, 1, 0], dtype=int32)"
      ]
     },
     "execution_count": 88,
     "metadata": {},
     "output_type": "execute_result"
    }
   ],
   "source": [
    "kclusters = 3\n",
    "\n",
    "# run k-means clustering\n",
    "kmeans = KMeans(n_clusters=kclusters, random_state=0).fit(top_cities_clustering)\n",
    "\n",
    "# check cluster labels generated for each row in the dataframe\n",
    "kmeans.labels_[:]"
   ]
  },
  {
   "cell_type": "markdown",
   "metadata": {},
   "source": [
    "Now let's add some data to **top_cities_grouped** so we can plot each cluster in the map."
   ]
  },
  {
   "cell_type": "code",
   "execution_count": 89,
   "metadata": {},
   "outputs": [
    {
     "data": {
      "text/html": [
       "<div>\n",
       "<style scoped>\n",
       "    .dataframe tbody tr th:only-of-type {\n",
       "        vertical-align: middle;\n",
       "    }\n",
       "\n",
       "    .dataframe tbody tr th {\n",
       "        vertical-align: top;\n",
       "    }\n",
       "\n",
       "    .dataframe thead th {\n",
       "        text-align: right;\n",
       "    }\n",
       "</style>\n",
       "<table border=\"1\" class=\"dataframe\">\n",
       "  <thead>\n",
       "    <tr style=\"text-align: right;\">\n",
       "      <th></th>\n",
       "      <th>City</th>\n",
       "      <th>Arts &amp; Culture</th>\n",
       "      <th>Entertainment</th>\n",
       "      <th>Food</th>\n",
       "      <th>Nature</th>\n",
       "      <th>Night Life</th>\n",
       "      <th>Shopping</th>\n",
       "      <th>Sports</th>\n",
       "      <th>Lat</th>\n",
       "      <th>Lng</th>\n",
       "      <th>Continent</th>\n",
       "      <th>Cluster</th>\n",
       "    </tr>\n",
       "  </thead>\n",
       "  <tbody>\n",
       "    <tr>\n",
       "      <td>1</td>\n",
       "      <td>Amsterdam</td>\n",
       "      <td>0.02</td>\n",
       "      <td>0.050000</td>\n",
       "      <td>0.410000</td>\n",
       "      <td>0.02000</td>\n",
       "      <td>0.090000</td>\n",
       "      <td>0.220000</td>\n",
       "      <td>0.040000</td>\n",
       "      <td>52.374540</td>\n",
       "      <td>4.897976</td>\n",
       "      <td>EU</td>\n",
       "      <td>1</td>\n",
       "    </tr>\n",
       "    <tr>\n",
       "      <td>2</td>\n",
       "      <td>Antalya</td>\n",
       "      <td>0.08</td>\n",
       "      <td>0.040000</td>\n",
       "      <td>0.330000</td>\n",
       "      <td>0.07000</td>\n",
       "      <td>0.110000</td>\n",
       "      <td>0.280000</td>\n",
       "      <td>0.040000</td>\n",
       "      <td>36.900964</td>\n",
       "      <td>30.695485</td>\n",
       "      <td>AS</td>\n",
       "      <td>0</td>\n",
       "    </tr>\n",
       "    <tr>\n",
       "      <td>3</td>\n",
       "      <td>Artvin</td>\n",
       "      <td>0.00</td>\n",
       "      <td>0.063492</td>\n",
       "      <td>0.444444</td>\n",
       "      <td>0.15873</td>\n",
       "      <td>0.111111</td>\n",
       "      <td>0.047619</td>\n",
       "      <td>0.063492</td>\n",
       "      <td>41.160506</td>\n",
       "      <td>41.839863</td>\n",
       "      <td>AS</td>\n",
       "      <td>1</td>\n",
       "    </tr>\n",
       "    <tr>\n",
       "      <td>4</td>\n",
       "      <td>Athens</td>\n",
       "      <td>0.08</td>\n",
       "      <td>0.040000</td>\n",
       "      <td>0.490000</td>\n",
       "      <td>0.02000</td>\n",
       "      <td>0.210000</td>\n",
       "      <td>0.120000</td>\n",
       "      <td>0.000000</td>\n",
       "      <td>37.984149</td>\n",
       "      <td>23.727984</td>\n",
       "      <td>EU</td>\n",
       "      <td>1</td>\n",
       "    </tr>\n",
       "    <tr>\n",
       "      <td>5</td>\n",
       "      <td>Auckland</td>\n",
       "      <td>0.04</td>\n",
       "      <td>0.050000</td>\n",
       "      <td>0.610000</td>\n",
       "      <td>0.05000</td>\n",
       "      <td>0.100000</td>\n",
       "      <td>0.050000</td>\n",
       "      <td>0.030000</td>\n",
       "      <td>-36.852095</td>\n",
       "      <td>174.763180</td>\n",
       "      <td>OC</td>\n",
       "      <td>2</td>\n",
       "    </tr>\n",
       "    <tr>\n",
       "      <td>...</td>\n",
       "      <td>...</td>\n",
       "      <td>...</td>\n",
       "      <td>...</td>\n",
       "      <td>...</td>\n",
       "      <td>...</td>\n",
       "      <td>...</td>\n",
       "      <td>...</td>\n",
       "      <td>...</td>\n",
       "      <td>...</td>\n",
       "      <td>...</td>\n",
       "      <td>...</td>\n",
       "      <td>...</td>\n",
       "    </tr>\n",
       "    <tr>\n",
       "      <td>80</td>\n",
       "      <td>Vancouver</td>\n",
       "      <td>0.05</td>\n",
       "      <td>0.010000</td>\n",
       "      <td>0.600000</td>\n",
       "      <td>0.09000</td>\n",
       "      <td>0.050000</td>\n",
       "      <td>0.090000</td>\n",
       "      <td>0.070000</td>\n",
       "      <td>49.260872</td>\n",
       "      <td>-123.113953</td>\n",
       "      <td>AM</td>\n",
       "      <td>2</td>\n",
       "    </tr>\n",
       "    <tr>\n",
       "      <td>81</td>\n",
       "      <td>Venice</td>\n",
       "      <td>0.13</td>\n",
       "      <td>0.060000</td>\n",
       "      <td>0.360000</td>\n",
       "      <td>0.03000</td>\n",
       "      <td>0.080000</td>\n",
       "      <td>0.100000</td>\n",
       "      <td>0.000000</td>\n",
       "      <td>45.437191</td>\n",
       "      <td>12.334590</td>\n",
       "      <td>EU</td>\n",
       "      <td>0</td>\n",
       "    </tr>\n",
       "    <tr>\n",
       "      <td>82</td>\n",
       "      <td>Vienna</td>\n",
       "      <td>0.12</td>\n",
       "      <td>0.140000</td>\n",
       "      <td>0.390000</td>\n",
       "      <td>0.03000</td>\n",
       "      <td>0.090000</td>\n",
       "      <td>0.080000</td>\n",
       "      <td>0.020000</td>\n",
       "      <td>48.208354</td>\n",
       "      <td>16.372504</td>\n",
       "      <td>EU</td>\n",
       "      <td>0</td>\n",
       "    </tr>\n",
       "    <tr>\n",
       "      <td>83</td>\n",
       "      <td>Warsaw</td>\n",
       "      <td>0.08</td>\n",
       "      <td>0.030000</td>\n",
       "      <td>0.450000</td>\n",
       "      <td>0.12000</td>\n",
       "      <td>0.150000</td>\n",
       "      <td>0.070000</td>\n",
       "      <td>0.060000</td>\n",
       "      <td>52.233717</td>\n",
       "      <td>21.071411</td>\n",
       "      <td>EU</td>\n",
       "      <td>1</td>\n",
       "    </tr>\n",
       "    <tr>\n",
       "      <td>84</td>\n",
       "      <td>Washington D.C.</td>\n",
       "      <td>0.27</td>\n",
       "      <td>0.040000</td>\n",
       "      <td>0.350000</td>\n",
       "      <td>0.05000</td>\n",
       "      <td>0.030000</td>\n",
       "      <td>0.050000</td>\n",
       "      <td>0.020000</td>\n",
       "      <td>38.895009</td>\n",
       "      <td>-77.036563</td>\n",
       "      <td>AM</td>\n",
       "      <td>0</td>\n",
       "    </tr>\n",
       "  </tbody>\n",
       "</table>\n",
       "<p>80 rows × 12 columns</p>\n",
       "</div>"
      ],
      "text/plain": [
       "               City  Arts & Culture  Entertainment      Food   Nature  \\\n",
       "1         Amsterdam            0.02       0.050000  0.410000  0.02000   \n",
       "2           Antalya            0.08       0.040000  0.330000  0.07000   \n",
       "3            Artvin            0.00       0.063492  0.444444  0.15873   \n",
       "4            Athens            0.08       0.040000  0.490000  0.02000   \n",
       "5          Auckland            0.04       0.050000  0.610000  0.05000   \n",
       "..              ...             ...            ...       ...      ...   \n",
       "80        Vancouver            0.05       0.010000  0.600000  0.09000   \n",
       "81           Venice            0.13       0.060000  0.360000  0.03000   \n",
       "82           Vienna            0.12       0.140000  0.390000  0.03000   \n",
       "83           Warsaw            0.08       0.030000  0.450000  0.12000   \n",
       "84  Washington D.C.            0.27       0.040000  0.350000  0.05000   \n",
       "\n",
       "    Night Life  Shopping    Sports        Lat         Lng Continent  Cluster  \n",
       "1     0.090000  0.220000  0.040000  52.374540    4.897976        EU        1  \n",
       "2     0.110000  0.280000  0.040000  36.900964   30.695485        AS        0  \n",
       "3     0.111111  0.047619  0.063492  41.160506   41.839863        AS        1  \n",
       "4     0.210000  0.120000  0.000000  37.984149   23.727984        EU        1  \n",
       "5     0.100000  0.050000  0.030000 -36.852095  174.763180        OC        2  \n",
       "..         ...       ...       ...        ...         ...       ...      ...  \n",
       "80    0.050000  0.090000  0.070000  49.260872 -123.113953        AM        2  \n",
       "81    0.080000  0.100000  0.000000  45.437191   12.334590        EU        0  \n",
       "82    0.090000  0.080000  0.020000  48.208354   16.372504        EU        0  \n",
       "83    0.150000  0.070000  0.060000  52.233717   21.071411        EU        1  \n",
       "84    0.030000  0.050000  0.020000  38.895009  -77.036563        AM        0  \n",
       "\n",
       "[80 rows x 12 columns]"
      ]
     },
     "execution_count": 89,
     "metadata": {},
     "output_type": "execute_result"
    }
   ],
   "source": [
    "top_cities_grouped.insert(len(top_cities_grouped.columns), 'Cluster', kmeans.labels_)\n",
    "top_cities_grouped"
   ]
  },
  {
   "cell_type": "code",
   "execution_count": null,
   "metadata": {},
   "outputs": [],
   "source": [
    "map_clusters = folium.Map(location=[0,25], zoom_start = 2)\n",
    "\n",
    "# set color scheme for the clusters\n",
    "x = np.arange(kclusters)\n",
    "ys = [i + x + (i*x)**2 for i in range(kclusters)]\n",
    "colors_array = cm.rainbow(np.linspace(0, 1, len(ys)))\n",
    "rainbow = [colors.rgb2hex(i) for i in colors_array]\n",
    "# add markers to the map\n",
    "markers_colors = []\n",
    "for lat, lon, poi, cluster in zip(top_cities_grouped['Lat'], \n",
    "                                  top_cities_grouped['Lng'], \n",
    "                                  top_cities_grouped['City'], \n",
    "                                  top_cities_grouped['Cluster']):\n",
    "    label = folium.Popup(str(poi) + ' Cluster ' + str(cluster), parse_html=True)\n",
    "    folium.CircleMarker(\n",
    "        [lat, lon],\n",
    "        radius=5,\n",
    "        popup=label,\n",
    "        color=rainbow[cluster-1],\n",
    "        fill=True,\n",
    "        fill_color=rainbow[cluster-1],\n",
    "        fill_opacity=0.7).add_to(map_clusters)\n",
    "       \n",
    "map_clusters"
   ]
  },
  {
   "cell_type": "markdown",
   "metadata": {},
   "source": [
    "![](Data Science Project/Resources/cluster_map.PNG.PNG)"
   ]
  },
  {
   "cell_type": "markdown",
   "metadata": {},
   "source": [
    "After clustering, let's explore each cluster to identify their main characteristics. First we can check size of each cluster."
   ]
  },
  {
   "cell_type": "code",
   "execution_count": 51,
   "metadata": {},
   "outputs": [
    {
     "data": {
      "text/plain": [
       "<seaborn.axisgrid.FacetGrid at 0x7f22e769e9b0>"
      ]
     },
     "execution_count": 51,
     "metadata": {},
     "output_type": "execute_result"
    },
    {
     "data": {
      "image/png": "[encoded data removed]",
      "text/plain": [
       "<Figure size 360x360 with 1 Axes>"
      ]
     },
     "metadata": {
      "needs_background": "light"
     },
     "output_type": "display_data"
    }
   ],
   "source": [
    "top_cities_barplot = top_cities_grouped.groupby('Cluster', as_index=False).count()\n",
    "sns.catplot(x='Cluster', y='City', data = top_cities_barplot, kind='bar')"
   ]
  },
  {
   "cell_type": "markdown",
   "metadata": {},
   "source": [
    "Cluster 1 is by far the most populated cluster. Clusters 0 and 2 have similar sizes. We can extract more information by checking continent distribution in each clusters."
   ]
  },
  {
   "cell_type": "code",
   "execution_count": 91,
   "metadata": {},
   "outputs": [
    {
     "data": {
      "text/plain": [
       "<seaborn.axisgrid.FacetGrid at 0x7f22e611af98>"
      ]
     },
     "execution_count": 91,
     "metadata": {},
     "output_type": "execute_result"
    },
    {
     "data": {
      "image/png": "[encoded data removed]",
      "text/plain": [
       "<Figure size 416.75x360 with 1 Axes>"
      ]
     },
     "metadata": {
      "needs_background": "light"
     },
     "output_type": "display_data"
    }
   ],
   "source": [
    "top_cities_contbarplot = top_cities_grouped.groupby(['Cluster', 'Continent'], as_index=False).count()\n",
    "sns.catplot(x='Cluster', y='City', hue='Continent', data = top_cities_contbarplot, kind='bar')"
   ]
  },
  {
   "cell_type": "markdown",
   "metadata": {},
   "source": [
    "We can see that majority of cities in cluster 0 belongs to Europe. Cluster 1 has cities spread by all continents. However, we can see that cities in Cluster 2 are majority located in Asian. Now go deeper into each cluster by analyzing boxplots."
   ]
  },
  {
   "cell_type": "code",
   "execution_count": 92,
   "metadata": {},
   "outputs": [
    {
     "data": {
      "text/plain": [
       "<seaborn.axisgrid.FacetGrid at 0x7f22e5ceda20>"
      ]
     },
     "execution_count": 92,
     "metadata": {},
     "output_type": "execute_result"
    },
    {
     "data": {
      "image/png": "[encoded data removed]",
      "text/plain": [
       "<Figure size 1080x360 with 3 Axes>"
      ]
     },
     "metadata": {
      "needs_background": "light"
     },
     "output_type": "display_data"
    }
   ],
   "source": [
    "top_cities_boxplot = top_cities_grouped.melt(id_vars=['Cluster'], var_name='Cat_group', value_name='Freq')\n",
    "\n",
    "top_cities_boxplot = top_cities_boxplot.drop(top_cities_boxplot[(top_cities_boxplot['Cat_group'] == 'Lat') \n",
    "                                                    | (top_cities_boxplot['Cat_group'] == 'Lng')\n",
    "                                                    | (top_cities_boxplot['Cat_group'] == 'City')\n",
    "                                                    | (top_cities_boxplot['Cat_group'] == 'Continent')].index)\n",
    "\n",
    "top_cities_boxplot.reset_index(inplace=True)\n",
    "sns.catplot(x='Cat_group', y='Freq', col='Cluster',data = top_cities_boxplot,kind='box').set_xticklabels(rotation=90)"
   ]
  },
  {
   "cell_type": "markdown",
   "metadata": {},
   "source": [
    "We can conclude that **Cluster 0** holds best cities when visitors want to have a taste of each kind of experience. All kind of experiences are provided by those cities venues in a good reasonable proportion. In addiction, if visitors want to shopping, enjoy art and culture or see the nature definitely Cluster 0 should be their destiny. \n",
    "\n",
    "**Cluster** 1 is the largest cluster. It means its cities can be likely found near the visitors, what can make trips cheapest . Cities in this cluster offer a huge number of places to enjoy food. Places to enjoy night life and shopping can be found easily as well.\n",
    "\n",
    "**Cluster** 2 is definitely recommended to visitor who prefer travel to enjoy food. Places to eat can be found everywhere. Despite that, we can't find a good number of places to enjoy other kind of experiences. Art & Culture and Nature options are the Achilles's heel of this Cluster.\n",
    "\n",
    "In general, places to have fun and enjoy or do sports are similarly spread by clusters.\n",
    "\n",
    "Finally, lets label each Cluster based on our analysis and print its cities. "
   ]
  },
  {
   "cell_type": "code",
   "execution_count": 93,
   "metadata": {},
   "outputs": [
    {
     "name": "stdout",
     "output_type": "stream",
     "text": [
      "========================================\n",
      "Cluster 0 - Full Experience\n",
      "========================================\n",
      "Antalya\n",
      "Berlin\n",
      "Brussels\n",
      "Florence\n",
      "Guilin\n",
      "Ha Long\n",
      "Jerusalem\n",
      "Kuala Lumpur\n",
      "London\n",
      "Milan\n",
      "Moscow\n",
      "New York City\n",
      "Rome\n",
      "Saint Petersburg\n",
      "San Francisco\n",
      "Venice\n",
      "Vienna\n",
      "Washington D.C.\n"
     ]
    }
   ],
   "source": [
    "print('========================================')\n",
    "print('Cluster 0 - Full Experience')\n",
    "print('========================================')\n",
    "\n",
    "for i, row in top_cities_grouped.iterrows():\n",
    "    if row['Cluster'] == 0:\n",
    "        print(row['City'])"
   ]
  },
  {
   "cell_type": "code",
   "execution_count": 94,
   "metadata": {},
   "outputs": [
    {
     "name": "stdout",
     "output_type": "stream",
     "text": [
      "========================================\n",
      "Cluster 1 - Eating, Partyng and Shopping\n",
      "========================================\n",
      "Amsterdam\n",
      "Artvin\n",
      "Athens\n",
      "Bangkok\n",
      "Barcelona\n",
      "Budapest\n",
      "Cairo\n",
      "Colombo\n",
      "Copenhagen\n",
      "Dubai\n",
      "Dublin\n",
      "Edirne\n",
      "Frankfurt am Main\n",
      "Guangzhou\n",
      "Heraklion\n",
      "Jaipur\n",
      "Johannesburg\n",
      "Lima\n",
      "Lisbon\n",
      "Los Angeles\n",
      "Madrid\n",
      "Marrakesh\n",
      "Mecca\n",
      "Melbourne\n",
      "Mexico City\n",
      "Miami\n",
      "Munich\n",
      "Orlando\n",
      "Osaka\n",
      "Pattaya\n",
      "Phnom Penh\n",
      "Phuket\n",
      "Prague\n",
      "Punta Cana\n",
      "Shanghai\n",
      "Shenzhen\n",
      "Siem Reap\n",
      "Singapore\n",
      "Stockholm\n",
      "Sydney\n",
      "Taipei\n",
      "Toronto\n",
      "Warsaw\n"
     ]
    }
   ],
   "source": [
    "print('========================================')\n",
    "print('Cluster 1 - Eating, Partyng and Shopping')\n",
    "print('========================================')\n",
    "\n",
    "for i, row in top_cities_grouped.iterrows():\n",
    "    if row['Cluster'] == 1:\n",
    "        print(row['City'])"
   ]
  },
  {
   "cell_type": "code",
   "execution_count": 95,
   "metadata": {},
   "outputs": [
    {
     "name": "stdout",
     "output_type": "stream",
     "text": [
      "========================================\n",
      "Cluster 2 - Food Everywhere \n",
      "========================================\n",
      "Auckland\n",
      "Cancún\n",
      "Chennai\n",
      "Chiang Mai\n",
      "Dammam\n",
      "Doha\n",
      "Hanoi\n",
      "Honolulu\n",
      "Johor Bahru\n",
      "Kolkata\n",
      "Kyoto\n",
      "Macau\n",
      "Penang Island\n",
      "Rhodes\n",
      "Riyadh\n",
      "Taichung\n",
      "Tel Aviv\n",
      "Tokyo\n",
      "Vancouver\n"
     ]
    }
   ],
   "source": [
    "print('========================================')\n",
    "print('Cluster 2 - Food Everywhere ')\n",
    "print('========================================')\n",
    "\n",
    "for i, row in top_cities_grouped.iterrows():\n",
    "    if row['Cluster'] == 2:\n",
    "        print(row['City'])"
   ]
  },
  {
   "cell_type": "markdown",
   "metadata": {},
   "source": [
    "## Results and Discussion <a name=\"results\"></a>\n",
    "\n",
    "Our analysis shows that majority of most visited cities are located in Europe and Asia. Some of those cities has not enough information about venues in Foursquare. It doesn't mean that those cities have a small number of options to offer to their visitors. We focused on cities with at least thirty places registered in Foursquare near their city centers.\n",
    "\n",
    "After directing our attention to this more narrow area, we choose to ignore cities in Asia with discrepant arrivals growth rates. It can influence the analysis and thus the interpretation of the data. \n",
    "\n",
    "We found best number of clusters by analyzing squared distances when running K-Mean Clustering Algorithm for a range of values for K.\n",
    "\n",
    "Clusters got from K-Mean Algorithm shows that we can split cities in three main clusters. First one holds cities indicated to visitors who wants to experience all kind of experiences, like shopping and  enjoy nature and arts. Cities in this cluster are mainly located in Europe and Asia.\n",
    "\n",
    "Second cluster is indicated to visitors who wants to spend less money to reach their final destination, enjoy food or experience a intense night life.\n",
    "\n",
    "Third cluster is heavily recommended to visitors who are looking for cities to enjoy food. Most of cities in this cluster have more than 65% of their places focused on food tourism.\n",
    "\n",
    " In general, places to have fun and enjoy or do sports figure similarly in all clusters."
   ]
  },
  {
   "cell_type": "markdown",
   "metadata": {},
   "source": [
    "## Conclusion <a name=\"conclusion\"></a>\n",
    "\n",
    "Purpose of this project was to identify similarity between most visited cities to aid stakeholders make customized suggestions.\n",
    "\n",
    "By clustering most visited cities in the world we have created groups of similar cities based on their venues categories. Those groups will help stakeholders to make customized suggestions based on their client's preferences."
   ]
  }
 ],
 "metadata": {
  "kernelspec": {
   "display_name": "Python",
   "language": "python",
   "name": "conda-env-python-py"
  },
  "language_info": {
   "codemirror_mode": {
    "name": "ipython",
    "version": 3
   },
   "file_extension": ".py",
   "mimetype": "text/x-python",
   "name": "python",
   "nbconvert_exporter": "python",
   "pygments_lexer": "ipython3",
   "version": "3.6.7"
  }
 },
 "nbformat": 4,
 "nbformat_minor": 4
}
