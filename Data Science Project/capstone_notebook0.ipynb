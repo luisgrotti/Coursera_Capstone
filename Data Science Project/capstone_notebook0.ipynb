{
 "cells": [
  {
   "cell_type": "markdown",
   "metadata": {},
   "source": [
    "# Capstone Project - Customized Suggestions for Travelers\n",
    "### Applied Data Science Capstone by IBM/Coursera"
   ]
  },
  {
   "cell_type": "markdown",
   "metadata": {},
   "source": [
    "## Table of contents\n",
    "* [Introduction: Business Problem](#introduction)\n",
    "* [Data](#data)\n",
    "* [Methodology](#methodology)\n",
    "* [Analysis](#analysis)\n",
    "* [Results and Discussion](#results)\n",
    "* [Conclusion](#conclusion)"
   ]
  },
  {
   "cell_type": "markdown",
   "metadata": {},
   "source": [
    "## Introduction<a name=\"introduction\"></a>\n",
    "\n",
    "In  this project we'll group cities by checking similarities between  their venues categories. This study target travel agencies which are interested in make customized suggestions to its clients.\n",
    "Since there are lots of spots around the world we'll focus on most visited cities. We'll consider just cities which have currently a positive growth in tourist arrivals. We are also interested in venues located near city centers and their categories.\n",
    "\n",
    "We'll use data science skills to cluster cities in similar groups based  on their venues categories. Each group will be labeled based on their touristic characteristics. Doing so, stakeholders will be able to suggest cities which are in line with client's preferences."
   ]
  },
  {
   "cell_type": "markdown",
   "metadata": {},
   "source": [
    "## Data <a name=\"data\"></a>\n",
    "\n",
    "Based on definition of our problem, factors that will influence our solution are:\n",
    " \n",
    "* Number of venues within five kilometers from city centers\n",
    "* Arrivals growth rates\n",
    "\n",
    "We decided to use ranking provided by Euromonitor of most visited cities in the world.\n",
    "\n",
    "Following data sources will be needed to generate the required solution:\n",
    "\n",
    "* List of top 100 cities ranked by the number of international visitors provided by Euromonitor\n",
    "* Latitudes and longitudes of city centers, obtained using Nominatim/Geopy library\n",
    "* Venues around city centers provided by Foursquare API\n",
    "* Classification of each Foursquare categories by tourism types"
   ]
  },
  {
   "cell_type": "markdown",
   "metadata": {},
   "source": [
    "Before starting let's import all dependencies used in this project."
   ]
  },
  {
   "cell_type": "code",
   "execution_count": 1,
   "metadata": {},
   "outputs": [
    {
     "name": "stdout",
     "output_type": "stream",
     "text": [
      "Libraries Imported\n"
     ]
    }
   ],
   "source": [
    "import pandas as pd # library to handle dataframes\n",
    "import seaborn as sns # library to handle data visualization\n",
    "import numpy as np # library to handle arrays\n",
    "import folium # library to handle maps\n",
    "import json # library to handle JSON files\n",
    "import requests # library to handle requests\n",
    "from sklearn.cluster import KMeans # machine learning algorithms\n",
    "import matplotlib.pyplot as plt # plotting tool\n",
    "import matplotlib.cm as cm\n",
    "import matplotlib.colors as colors\n",
    "\n",
    "#!pip install pycountry_convert \n",
    "import pycountry_convert as pc # library to convert countries/continents codes\n",
    "#!pip install geopy\n",
    "from geopy.geocoders import Nominatim # convert an address into latitude and longitude\n",
    "#!pip install lxml\n",
    "import lxml # library to handle html\n",
    "\n",
    "print('Libraries Imported')"
   ]
  },
  {
   "cell_type": "markdown",
   "metadata": {},
   "source": [
    "### City Candidates\n",
    "\n",
    "We will scrape Wikipedia to get **Euromonitor** ranking of most visited cities. Euromonitor define a foreign visitor as a person who spends at least 24 hours in a city. For cities bordering directly on foreign territory,  border crossings from country to country are not counted."
   ]
  },
  {
   "cell_type": "code",
   "execution_count": 64,
   "metadata": {},
   "outputs": [
    {
     "data": {
      "text/html": [
       "<div>\n",
       "<style scoped>\n",
       "    .dataframe tbody tr th:only-of-type {\n",
       "        vertical-align: middle;\n",
       "    }\n",
       "\n",
       "    .dataframe tbody tr th {\n",
       "        vertical-align: top;\n",
       "    }\n",
       "\n",
       "    .dataframe thead th {\n",
       "        text-align: right;\n",
       "    }\n",
       "</style>\n",
       "<table border=\"1\" class=\"dataframe\">\n",
       "  <thead>\n",
       "    <tr style=\"text-align: right;\">\n",
       "      <th></th>\n",
       "      <th>RankEuromonitor</th>\n",
       "      <th>RankMastercard</th>\n",
       "      <th>City</th>\n",
       "      <th>Country</th>\n",
       "      <th>Arrivals 2017Euromonitor</th>\n",
       "      <th>Arrivals 2016Mastercard</th>\n",
       "      <th>Growthin arrivalsEuromonitor</th>\n",
       "      <th>Income(billions $)Mastercard</th>\n",
       "    </tr>\n",
       "  </thead>\n",
       "  <tbody>\n",
       "    <tr>\n",
       "      <td>0</td>\n",
       "      <td>1.0</td>\n",
       "      <td>11.0</td>\n",
       "      <td>Hong Kong</td>\n",
       "      <td>Hong Kong</td>\n",
       "      <td>25695800.0</td>\n",
       "      <td>8370000.0</td>\n",
       "      <td>−3.1 %</td>\n",
       "      <td>6.84</td>\n",
       "    </tr>\n",
       "    <tr>\n",
       "      <td>1</td>\n",
       "      <td>2.0</td>\n",
       "      <td>1.0</td>\n",
       "      <td>Bangkok</td>\n",
       "      <td>Thailand</td>\n",
       "      <td>23270600.0</td>\n",
       "      <td>21470000.0</td>\n",
       "      <td>9.5 %</td>\n",
       "      <td>14.84</td>\n",
       "    </tr>\n",
       "    <tr>\n",
       "      <td>2</td>\n",
       "      <td>3.0</td>\n",
       "      <td>2.0</td>\n",
       "      <td>London</td>\n",
       "      <td>United Kingdom</td>\n",
       "      <td>19842800.0</td>\n",
       "      <td>19880000.0</td>\n",
       "      <td>3.4 %</td>\n",
       "      <td>19.76</td>\n",
       "    </tr>\n",
       "    <tr>\n",
       "      <td>3</td>\n",
       "      <td>4.0</td>\n",
       "      <td>6.0</td>\n",
       "      <td>Singapore</td>\n",
       "      <td>Singapore</td>\n",
       "      <td>17681800.0</td>\n",
       "      <td>12110000.0</td>\n",
       "      <td>6.1 %</td>\n",
       "      <td>12.54</td>\n",
       "    </tr>\n",
       "    <tr>\n",
       "      <td>4</td>\n",
       "      <td>5.0</td>\n",
       "      <td>NaN</td>\n",
       "      <td>Macau</td>\n",
       "      <td>Macau</td>\n",
       "      <td>16299100.0</td>\n",
       "      <td>NaN</td>\n",
       "      <td>5.9 %</td>\n",
       "      <td>NaN</td>\n",
       "    </tr>\n",
       "  </tbody>\n",
       "</table>\n",
       "</div>"
      ],
      "text/plain": [
       "   RankEuromonitor  RankMastercard       City         Country  \\\n",
       "0              1.0            11.0  Hong Kong       Hong Kong   \n",
       "1              2.0             1.0    Bangkok        Thailand   \n",
       "2              3.0             2.0     London  United Kingdom   \n",
       "3              4.0             6.0  Singapore       Singapore   \n",
       "4              5.0             NaN      Macau           Macau   \n",
       "\n",
       "   Arrivals 2017Euromonitor  Arrivals 2016Mastercard  \\\n",
       "0                25695800.0                8370000.0   \n",
       "1                23270600.0               21470000.0   \n",
       "2                19842800.0               19880000.0   \n",
       "3                17681800.0               12110000.0   \n",
       "4                16299100.0                      NaN   \n",
       "\n",
       "  Growthin arrivalsEuromonitor  Income(billions $)Mastercard  \n",
       "0                       −3.1 %                          6.84  \n",
       "1                        9.5 %                         14.84  \n",
       "2                        3.4 %                         19.76  \n",
       "3                        6.1 %                         12.54  \n",
       "4                        5.9 %                           NaN  "
      ]
     },
     "execution_count": 64,
     "metadata": {},
     "output_type": "execute_result"
    }
   ],
   "source": [
    "top_cities = pd.read_html('https://en.wikipedia.org/wiki/List_of_cities_by_international_visitors')\n",
    "top_cities = top_cities[0]\n",
    "top_cities.head()"
   ]
  },
  {
   "cell_type": "markdown",
   "metadata": {},
   "source": [
    "Wikipedia provides two rankings. We are interested in Euromonitor's ranking, so let's drop all Mastercard's information. Also, let's drop all cities which belongs only to Mastercard's ranking."
   ]
  },
  {
   "cell_type": "code",
   "execution_count": 65,
   "metadata": {},
   "outputs": [
    {
     "name": "stdout",
     "output_type": "stream",
     "text": [
      "Now we have just 100 cities in our dataframe!\n"
     ]
    }
   ],
   "source": [
    "top_cities = top_cities[top_cities['RankEuromonitor'].notnull()]\n",
    "top_cities.drop(['RankMastercard', 'Income(billions $)Mastercard', 'Arrivals 2016Mastercard'], axis=1, inplace=True)\n",
    "print('Now we have just {} cities in our dataframe!'.format(top_cities.shape[0]))"
   ]
  },
  {
   "cell_type": "markdown",
   "metadata": {},
   "source": [
    "To this project the position in the ranking and number of arrivals are not important. We will also drop them and rename columns for better understanding."
   ]
  },
  {
   "cell_type": "code",
   "execution_count": 66,
   "metadata": {},
   "outputs": [
    {
     "data": {
      "text/html": [
       "<div>\n",
       "<style scoped>\n",
       "    .dataframe tbody tr th:only-of-type {\n",
       "        vertical-align: middle;\n",
       "    }\n",
       "\n",
       "    .dataframe tbody tr th {\n",
       "        vertical-align: top;\n",
       "    }\n",
       "\n",
       "    .dataframe thead th {\n",
       "        text-align: right;\n",
       "    }\n",
       "</style>\n",
       "<table border=\"1\" class=\"dataframe\">\n",
       "  <thead>\n",
       "    <tr style=\"text-align: right;\">\n",
       "      <th></th>\n",
       "      <th>City</th>\n",
       "      <th>Country</th>\n",
       "      <th>Arr_growth</th>\n",
       "    </tr>\n",
       "  </thead>\n",
       "  <tbody>\n",
       "    <tr>\n",
       "      <td>0</td>\n",
       "      <td>Hong Kong</td>\n",
       "      <td>Hong Kong</td>\n",
       "      <td>−3.1 %</td>\n",
       "    </tr>\n",
       "    <tr>\n",
       "      <td>1</td>\n",
       "      <td>Bangkok</td>\n",
       "      <td>Thailand</td>\n",
       "      <td>9.5 %</td>\n",
       "    </tr>\n",
       "    <tr>\n",
       "      <td>2</td>\n",
       "      <td>London</td>\n",
       "      <td>United Kingdom</td>\n",
       "      <td>3.4 %</td>\n",
       "    </tr>\n",
       "    <tr>\n",
       "      <td>3</td>\n",
       "      <td>Singapore</td>\n",
       "      <td>Singapore</td>\n",
       "      <td>6.1 %</td>\n",
       "    </tr>\n",
       "    <tr>\n",
       "      <td>4</td>\n",
       "      <td>Macau</td>\n",
       "      <td>Macau</td>\n",
       "      <td>5.9 %</td>\n",
       "    </tr>\n",
       "  </tbody>\n",
       "</table>\n",
       "</div>"
      ],
      "text/plain": [
       "        City         Country Arr_growth\n",
       "0  Hong Kong       Hong Kong     −3.1 %\n",
       "1    Bangkok        Thailand      9.5 %\n",
       "2     London  United Kingdom      3.4 %\n",
       "3  Singapore       Singapore      6.1 %\n",
       "4      Macau           Macau      5.9 %"
      ]
     },
     "execution_count": 66,
     "metadata": {},
     "output_type": "execute_result"
    }
   ],
   "source": [
    "top_cities.drop(['RankEuromonitor', 'Arrivals 2017Euromonitor'], axis=1, inplace=True)\n",
    "top_cities.columns = ['City', 'Country', 'Arr_growth']\n",
    "top_cities.reset_index(drop=True)\n",
    "top_cities.head()"
   ]
  },
  {
   "cell_type": "markdown",
   "metadata": {},
   "source": [
    "Let's check column types."
   ]
  },
  {
   "cell_type": "code",
   "execution_count": 67,
   "metadata": {},
   "outputs": [
    {
     "data": {
      "text/plain": [
       "City          object\n",
       "Country       object\n",
       "Arr_growth    object\n",
       "dtype: object"
      ]
     },
     "execution_count": 67,
     "metadata": {},
     "output_type": "execute_result"
    }
   ],
   "source": [
    "top_cities.dtypes"
   ]
  },
  {
   "cell_type": "markdown",
   "metadata": {},
   "source": [
    "As we are interested only in cities with positive growth arrivals rate, let's cast **Arr_growth** to float."
   ]
  },
  {
   "cell_type": "code",
   "execution_count": 68,
   "metadata": {},
   "outputs": [
    {
     "data": {
      "text/plain": [
       "City           object\n",
       "Country        object\n",
       "Arr_growth    float64\n",
       "dtype: object"
      ]
     },
     "execution_count": 68,
     "metadata": {},
     "output_type": "execute_result"
    }
   ],
   "source": [
    "top_cities['Arr_growth'] = top_cities['Arr_growth'].replace('%','', regex=True)\n",
    "top_cities['Arr_growth'] = top_cities['Arr_growth'].replace(',','.', regex=True)\n",
    "top_cities['Arr_growth'] = top_cities['Arr_growth'].replace('−','-', regex=True).astype(float)\n",
    "top_cities.dtypes"
   ]
  },
  {
   "cell_type": "markdown",
   "metadata": {},
   "source": [
    "Great, it's float now! Now let's take off all cities which have growth arrival rate below zero. "
   ]
  },
  {
   "cell_type": "code",
   "execution_count": 69,
   "metadata": {},
   "outputs": [],
   "source": [
    "top_cities = top_cities.drop(top_cities[(top_cities['Arr_growth'] < 0)].index)"
   ]
  },
  {
   "cell_type": "markdown",
   "metadata": {},
   "source": [
    "### Geo-spacial Reference"
   ]
  },
  {
   "cell_type": "markdown",
   "metadata": {},
   "source": [
    "Now let's use pycountry_convert library to search continent information of each city."
   ]
  },
  {
   "cell_type": "code",
   "execution_count": 70,
   "metadata": {},
   "outputs": [
    {
     "data": {
      "text/plain": [
       "AS    44\n",
       "EU    25\n",
       "NA    12\n",
       "OC     3\n",
       "AF     3\n",
       "SA     1\n",
       "Name: Continent, dtype: int64"
      ]
     },
     "execution_count": 70,
     "metadata": {},
     "output_type": "execute_result"
    }
   ],
   "source": [
    "top_cities['Continent'] = ''\n",
    "\n",
    "for i, row in top_cities.iterrows():\n",
    "    country_code = pc.country_name_to_country_alpha2(row['Country'], cn_name_format=\"default\") \n",
    "    continent_name  = pc.country_alpha2_to_continent_code(country_code)\n",
    "    top_cities.loc[i, 'Continent'] = continent_name\n",
    "    \n",
    "top_cities['Continent'].value_counts()"
   ]
  },
  {
   "cell_type": "markdown",
   "metadata": {},
   "source": [
    "Pycountry_convert assumes that North America (NA) and South America (SA) are different continents. Let's put them together and label them as AM ('America')."
   ]
  },
  {
   "cell_type": "code",
   "execution_count": 71,
   "metadata": {},
   "outputs": [
    {
     "data": {
      "text/plain": [
       "AS    44\n",
       "EU    25\n",
       "AM    13\n",
       "OC     3\n",
       "AF     3\n",
       "Name: Continent, dtype: int64"
      ]
     },
     "execution_count": 71,
     "metadata": {},
     "output_type": "execute_result"
    }
   ],
   "source": [
    "top_cities['Continent'].replace('NA', 'AM', inplace=True)\n",
    "top_cities['Continent'].replace('SA', 'AM', inplace=True)\n",
    "top_cities['Continent'].value_counts()"
   ]
  },
  {
   "cell_type": "markdown",
   "metadata": {},
   "source": [
    "Finally, let's get latitudes and longitudes for each city. To do so we are going to use Geopy library and them visualize our set of cities in the map."
   ]
  },
  {
   "cell_type": "code",
   "execution_count": 72,
   "metadata": {},
   "outputs": [
    {
     "data": {
      "text/html": [
       "<div>\n",
       "<style scoped>\n",
       "    .dataframe tbody tr th:only-of-type {\n",
       "        vertical-align: middle;\n",
       "    }\n",
       "\n",
       "    .dataframe tbody tr th {\n",
       "        vertical-align: top;\n",
       "    }\n",
       "\n",
       "    .dataframe thead th {\n",
       "        text-align: right;\n",
       "    }\n",
       "</style>\n",
       "<table border=\"1\" class=\"dataframe\">\n",
       "  <thead>\n",
       "    <tr style=\"text-align: right;\">\n",
       "      <th></th>\n",
       "      <th>City</th>\n",
       "      <th>Country</th>\n",
       "      <th>Arr_growth</th>\n",
       "      <th>Continent</th>\n",
       "      <th>Lat</th>\n",
       "      <th>Lng</th>\n",
       "    </tr>\n",
       "  </thead>\n",
       "  <tbody>\n",
       "    <tr>\n",
       "      <td>1</td>\n",
       "      <td>Bangkok</td>\n",
       "      <td>Thailand</td>\n",
       "      <td>9.5</td>\n",
       "      <td>AS</td>\n",
       "      <td>13.753893</td>\n",
       "      <td>100.816080</td>\n",
       "    </tr>\n",
       "    <tr>\n",
       "      <td>2</td>\n",
       "      <td>London</td>\n",
       "      <td>United Kingdom</td>\n",
       "      <td>3.4</td>\n",
       "      <td>EU</td>\n",
       "      <td>51.507322</td>\n",
       "      <td>-0.127647</td>\n",
       "    </tr>\n",
       "    <tr>\n",
       "      <td>3</td>\n",
       "      <td>Singapore</td>\n",
       "      <td>Singapore</td>\n",
       "      <td>6.1</td>\n",
       "      <td>AS</td>\n",
       "      <td>1.340863</td>\n",
       "      <td>103.830392</td>\n",
       "    </tr>\n",
       "    <tr>\n",
       "      <td>4</td>\n",
       "      <td>Macau</td>\n",
       "      <td>Macau</td>\n",
       "      <td>5.9</td>\n",
       "      <td>AS</td>\n",
       "      <td>22.195629</td>\n",
       "      <td>113.548785</td>\n",
       "    </tr>\n",
       "    <tr>\n",
       "      <td>5</td>\n",
       "      <td>Dubai</td>\n",
       "      <td>United Arab Emirates</td>\n",
       "      <td>7.7</td>\n",
       "      <td>AS</td>\n",
       "      <td>25.075010</td>\n",
       "      <td>55.188761</td>\n",
       "    </tr>\n",
       "  </tbody>\n",
       "</table>\n",
       "</div>"
      ],
      "text/plain": [
       "        City               Country  Arr_growth Continent        Lat  \\\n",
       "1    Bangkok              Thailand         9.5        AS  13.753893   \n",
       "2     London        United Kingdom         3.4        EU  51.507322   \n",
       "3  Singapore             Singapore         6.1        AS   1.340863   \n",
       "4      Macau                 Macau         5.9        AS  22.195629   \n",
       "5      Dubai  United Arab Emirates         7.7        AS  25.075010   \n",
       "\n",
       "          Lng  \n",
       "1  100.816080  \n",
       "2   -0.127647  \n",
       "3  103.830392  \n",
       "4  113.548785  \n",
       "5   55.188761  "
      ]
     },
     "execution_count": 72,
     "metadata": {},
     "output_type": "execute_result"
    }
   ],
   "source": [
    "geolocator = Nominatim(user_agent=\"explorer\")\n",
    "\n",
    "top_cities['Lat'] = float(0)\n",
    "top_cities['Lng'] = float(0)\n",
    "\n",
    "for i, row in top_cities.iterrows():\n",
    "    location = geolocator.geocode(str(row['City'] + ', ' + row['Country']))\n",
    "    top_cities.loc[i, 'Lat'] = location.latitude\n",
    "    top_cities.loc[i, 'Lng'] = location.longitude\n",
    "\n",
    "top_cities.head()"
   ]
  },
  {
   "cell_type": "code",
   "execution_count": 76,
   "metadata": {},
   "outputs": [
    {
     "data": {
      "text/html": [
       "<div style=\"width:100%;\"><div style=\"position:relative;width:100%;height:0;padding-bottom:60%;\"><iframe src=\"data:text/html;charset=utf-8;base64,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\" style=\"position:absolute;width:100%;height:100%;left:0;top:0;border:none !important;\" allowfullscreen webkitallowfullscreen mozallowfullscreen></iframe></div></div>"
      ],
      "text/plain": [
       "<folium.folium.Map at 0x7f22e643f978>"
      ]
     },
     "execution_count": 76,
     "metadata": {},
     "output_type": "execute_result"
    }
   ],
   "source": [
    "world_map = folium.Map(location=[0,25], zoom_start = 2)\n",
    "    \n",
    "# add cities to map\n",
    "for lat, lng, city in zip(top_cities['Lat'], \n",
    "                        top_cities['Lng'], \n",
    "                        top_cities['City']):\n",
    "    \n",
    "    label = '{}'.format(city)\n",
    "    label = folium.Popup(label, parse_html=True)\n",
    "    folium.CircleMarker(\n",
    "        [lat, lng],\n",
    "        radius=5,\n",
    "        popup=label,\n",
    "        color='green',\n",
    "        fill=True,\n",
    "        fill_color='#3186cc',\n",
    "        fill_opacity=0.7,\n",
    "        parse_html=False).add_to(world_map)  \n",
    "        \n",
    "world_map"
   ]
  },
  {
   "cell_type": "markdown",
   "metadata": {},
   "source": [
    "![](world_map.PNG)"
   ]
  },
  {
   "cell_type": "markdown",
   "metadata": {},
   "source": [
    "Now we are going to use Foursquare API to search for venues around city centers. First we'll build a function to loop over **top_cities** using Foursquare function **explore**."
   ]
  },
  {
   "cell_type": "code",
   "execution_count": 96,
   "metadata": {},
   "outputs": [],
   "source": [
    "# setting API credentials\n",
    "client_id = '______________________________________' # Foursquare ID\n",
    "client_secret = '______________________________________' # Foursquare Secret\n",
    "version = '20180605' # Foursquare API version\n",
    "\n",
    "\n",
    "def getNearbyVenues(cities, latitudes, longitudes, radius=5000, limit=100):\n",
    "\n",
    "    venues_list=[]\n",
    "    \n",
    "    for city, lat, lng in zip(cities, latitudes, longitudes):\n",
    "        print('Searching near', city)\n",
    "                \n",
    "        # create the API request URL\n",
    "        url = 'https://api.foursquare.com/v2/venues/explore?&client_id={}&client_secret={}&v={}&ll={},{}&radius={}&limit={}'.format(\n",
    "            client_id, \n",
    "            client_secret, \n",
    "            version, \n",
    "            lat, \n",
    "            lng, \n",
    "            radius, \n",
    "            limit)\n",
    "            \n",
    "        # make the GET request\n",
    "        results = requests.get(url).json()[\"response\"]['groups'][0]['items']\n",
    "        \n",
    "        # return only relevant information for each nearby venue\n",
    "        venues_list.append([(\n",
    "            city, \n",
    "            lat, \n",
    "            lng, \n",
    "            v['venue']['name'], \n",
    "            v['venue']['location']['lat'], \n",
    "            v['venue']['location']['lng'],  \n",
    "            v['venue']['categories'][0]['id']) for v in results])\n",
    "\n",
    "    nearby_venues = pd.DataFrame([item for venue_list in venues_list for item in venue_list])\n",
    "    nearby_venues.columns = ['City', \n",
    "                  'City_lat', \n",
    "                  'City_lng', \n",
    "                  'Venue', \n",
    "                  'Venue_lat', \n",
    "                  'Venue_lng', \n",
    "                  'Category_ID']\n",
    "    \n",
    "    return(nearby_venues)"
   ]
  },
  {
   "cell_type": "markdown",
   "metadata": {},
   "source": [
    "Now we are able to get list of venues near the city centers. As Foursquare API return up to 100 venues per call, this will be maximum number of venues per city."
   ]
  },
  {
   "cell_type": "code",
   "execution_count": 78,
   "metadata": {},
   "outputs": [
    {
     "name": "stdout",
     "output_type": "stream",
     "text": [
      "Searching near Bangkok\n",
      "Searching near London\n",
      "Searching near Singapore\n",
      "Searching near Macau\n",
      "Searching near Dubai\n",
      "Searching near New York City\n",
      "Searching near Shenzhen\n",
      "Searching near Kuala Lumpur\n",
      "Searching near Phuket\n",
      "Searching near Delhi\n",
      "Searching near Tokyo\n",
      "Searching near Rome\n",
      "Searching near Taipei\n",
      "Searching near Guangzhou\n",
      "Searching near Mumbai\n",
      "Searching near Mecca\n",
      "Searching near Prague\n",
      "Searching near Miami\n",
      "Searching near Barcelona\n",
      "Searching near Pattaya\n",
      "Searching near Shanghai\n",
      "Searching near Milan\n",
      "Searching near Cancún\n",
      "Searching near Agra\n",
      "Searching near Amsterdam\n",
      "Searching near Antalya\n",
      "Searching near Denpasar\n",
      "Searching near Osaka\n",
      "Searching near Los Angeles\n",
      "Searching near Vienna\n",
      "Searching near Berlin\n",
      "Searching near Madrid\n",
      "Searching near Johor Bahru\n",
      "Searching near Johannesburg\n",
      "Searching near Riyadh\n",
      "Searching near Ho Chi Minh City\n",
      "Searching near Venice\n",
      "Searching near Orlando\n",
      "Searching near Chennai\n",
      "Searching near Jaipur\n",
      "Searching near Athens\n",
      "Searching near Dublin\n",
      "Searching near Florence\n",
      "Searching near Moscow\n",
      "Searching near Toronto\n",
      "Searching near Hanoi\n",
      "Searching near Ha Long\n",
      "Searching near Sydney\n",
      "Searching near Budapest\n",
      "Searching near Punta Cana\n",
      "Searching near San Francisco\n",
      "Searching near Jakarta\n",
      "Searching near Dammam\n",
      "Searching near Munich\n",
      "Searching near Lisbon\n",
      "Searching near Zhuhai\n",
      "Searching near Heraklion\n",
      "Searching near Penang Island\n",
      "Searching near Cairo\n",
      "Searching near Copenhagen\n",
      "Searching near Kyoto\n",
      "Searching near Phnom Penh\n",
      "Searching near Doha\n",
      "Searching near Chiang Mai\n",
      "Searching near Edirne\n",
      "Searching near Jerusalem\n",
      "Searching near Saint Petersburg\n",
      "Searching near Warsaw\n",
      "Searching near Melbourne\n",
      "Searching near Marrakesh\n",
      "Searching near Vancouver\n",
      "Searching near Auckland\n",
      "Searching near Tel Aviv\n",
      "Searching near Honolulu\n",
      "Searching near Artvin\n",
      "Searching near Kolkata\n",
      "Searching near Guilin\n",
      "Searching near Brussels\n",
      "Searching near Frankfurt am Main\n",
      "Searching near Stockholm\n",
      "Searching near Mexico City\n",
      "Searching near Siem Reap\n",
      "Searching near Lima\n",
      "Searching near Rhodes\n",
      "Searching near Colombo\n",
      "Searching near Abu Dhabi\n",
      "Searching near Taichung\n",
      "Searching near Washington D.C.\n"
     ]
    },
    {
     "data": {
      "text/html": [
       "<div>\n",
       "<style scoped>\n",
       "    .dataframe tbody tr th:only-of-type {\n",
       "        vertical-align: middle;\n",
       "    }\n",
       "\n",
       "    .dataframe tbody tr th {\n",
       "        vertical-align: top;\n",
       "    }\n",
       "\n",
       "    .dataframe thead th {\n",
       "        text-align: right;\n",
       "    }\n",
       "</style>\n",
       "<table border=\"1\" class=\"dataframe\">\n",
       "  <thead>\n",
       "    <tr style=\"text-align: right;\">\n",
       "      <th></th>\n",
       "      <th>City</th>\n",
       "      <th>City_lat</th>\n",
       "      <th>City_lng</th>\n",
       "      <th>Venue</th>\n",
       "      <th>Venue_lat</th>\n",
       "      <th>Venue_lng</th>\n",
       "      <th>Category_ID</th>\n",
       "    </tr>\n",
       "  </thead>\n",
       "  <tbody>\n",
       "    <tr>\n",
       "      <td>0</td>\n",
       "      <td>Bangkok</td>\n",
       "      <td>13.753893</td>\n",
       "      <td>100.81608</td>\n",
       "      <td>Starbucks (สตาร์บัคส์)</td>\n",
       "      <td>13.756659</td>\n",
       "      <td>100.798409</td>\n",
       "      <td>4bf58dd8d48988d1e0931735</td>\n",
       "    </tr>\n",
       "    <tr>\n",
       "      <td>1</td>\n",
       "      <td>Bangkok</td>\n",
       "      <td>13.753893</td>\n",
       "      <td>100.81608</td>\n",
       "      <td>Café Amazon (คาเฟ่ อเมซอน)</td>\n",
       "      <td>13.755277</td>\n",
       "      <td>100.797188</td>\n",
       "      <td>4bf58dd8d48988d1e0931735</td>\n",
       "    </tr>\n",
       "    <tr>\n",
       "      <td>2</td>\n",
       "      <td>Bangkok</td>\n",
       "      <td>13.753893</td>\n",
       "      <td>100.81608</td>\n",
       "      <td>ตลาดนัดวัดพลฯ</td>\n",
       "      <td>13.720410</td>\n",
       "      <td>100.795113</td>\n",
       "      <td>4bf58dd8d48988d1f7941735</td>\n",
       "    </tr>\n",
       "    <tr>\n",
       "      <td>3</td>\n",
       "      <td>Bangkok</td>\n",
       "      <td>13.753893</td>\n",
       "      <td>100.81608</td>\n",
       "      <td>ข้าวต้มฉลองชัย</td>\n",
       "      <td>13.747742</td>\n",
       "      <td>100.793052</td>\n",
       "      <td>4bf58dd8d48988d142941735</td>\n",
       "    </tr>\n",
       "    <tr>\n",
       "      <td>4</td>\n",
       "      <td>Bangkok</td>\n",
       "      <td>13.753893</td>\n",
       "      <td>100.81608</td>\n",
       "      <td>ก๋วยเตี๋ยวไก่มะระบุฟเฟ่ต์</td>\n",
       "      <td>13.719221</td>\n",
       "      <td>100.797171</td>\n",
       "      <td>4bf58dd8d48988d1d1941735</td>\n",
       "    </tr>\n",
       "  </tbody>\n",
       "</table>\n",
       "</div>"
      ],
      "text/plain": [
       "      City   City_lat   City_lng                       Venue  Venue_lat  \\\n",
       "0  Bangkok  13.753893  100.81608      Starbucks (สตาร์บัคส์)  13.756659   \n",
       "1  Bangkok  13.753893  100.81608  Café Amazon (คาเฟ่ อเมซอน)  13.755277   \n",
       "2  Bangkok  13.753893  100.81608               ตลาดนัดวัดพลฯ  13.720410   \n",
       "3  Bangkok  13.753893  100.81608              ข้าวต้มฉลองชัย  13.747742   \n",
       "4  Bangkok  13.753893  100.81608   ก๋วยเตี๋ยวไก่มะระบุฟเฟ่ต์  13.719221   \n",
       "\n",
       "    Venue_lng               Category_ID  \n",
       "0  100.798409  4bf58dd8d48988d1e0931735  \n",
       "1  100.797188  4bf58dd8d48988d1e0931735  \n",
       "2  100.795113  4bf58dd8d48988d1f7941735  \n",
       "3  100.793052  4bf58dd8d48988d142941735  \n",
       "4  100.797171  4bf58dd8d48988d1d1941735  "
      ]
     },
     "execution_count": 78,
     "metadata": {},
     "output_type": "execute_result"
    }
   ],
   "source": [
    "top_cities_venues = getNearbyVenues(cities=top_cities['City'], \n",
    "                                latitudes=top_cities['Lat'],\n",
    "                                longitudes=top_cities['Lng'])\n",
    "\n",
    "top_cities_venues.head()"
   ]
  },
  {
   "cell_type": "markdown",
   "metadata": {},
   "source": [
    "Each category in Foursquare can grouped in one specific type of tourism. We'll load a CSV file which contain Foursquare categories and their tourism types."
   ]
  },
  {
   "cell_type": "code",
   "execution_count": 79,
   "metadata": {},
   "outputs": [
    {
     "data": {
      "text/plain": [
       "array(['Arts & Culture', 'Entertainment', 'Sports', 'Shopping', 'Food',\n",
       "       'Night Life', 'Nature'], dtype=object)"
      ]
     },
     "execution_count": 79,
     "metadata": {},
     "output_type": "execute_result"
    }
   ],
   "source": [
    "tc_categories = pd.read_csv('foursquare_groups.csv')\n",
    "tc_categories['category_group'].unique()"
   ]
  },
  {
   "cell_type": "markdown",
   "metadata": {},
   "source": [
    "Let's attach **category_group** to **top_cities_venues**."
   ]
  },
  {
   "cell_type": "code",
   "execution_count": 80,
   "metadata": {},
   "outputs": [
    {
     "data": {
      "text/html": [
       "<div>\n",
       "<style scoped>\n",
       "    .dataframe tbody tr th:only-of-type {\n",
       "        vertical-align: middle;\n",
       "    }\n",
       "\n",
       "    .dataframe tbody tr th {\n",
       "        vertical-align: top;\n",
       "    }\n",
       "\n",
       "    .dataframe thead th {\n",
       "        text-align: right;\n",
       "    }\n",
       "</style>\n",
       "<table border=\"1\" class=\"dataframe\">\n",
       "  <thead>\n",
       "    <tr style=\"text-align: right;\">\n",
       "      <th></th>\n",
       "      <th>City</th>\n",
       "      <th>City_lat</th>\n",
       "      <th>City_lng</th>\n",
       "      <th>Venue</th>\n",
       "      <th>Venue_lat</th>\n",
       "      <th>Venue_lng</th>\n",
       "      <th>Category_ID</th>\n",
       "      <th>Category_group</th>\n",
       "    </tr>\n",
       "  </thead>\n",
       "  <tbody>\n",
       "    <tr>\n",
       "      <td>0</td>\n",
       "      <td>Bangkok</td>\n",
       "      <td>13.753893</td>\n",
       "      <td>100.81608</td>\n",
       "      <td>Starbucks (สตาร์บัคส์)</td>\n",
       "      <td>13.756659</td>\n",
       "      <td>100.798409</td>\n",
       "      <td>4bf58dd8d48988d1e0931735</td>\n",
       "      <td>Food</td>\n",
       "    </tr>\n",
       "    <tr>\n",
       "      <td>1</td>\n",
       "      <td>Bangkok</td>\n",
       "      <td>13.753893</td>\n",
       "      <td>100.81608</td>\n",
       "      <td>Café Amazon (คาเฟ่ อเมซอน)</td>\n",
       "      <td>13.755277</td>\n",
       "      <td>100.797188</td>\n",
       "      <td>4bf58dd8d48988d1e0931735</td>\n",
       "      <td>Food</td>\n",
       "    </tr>\n",
       "    <tr>\n",
       "      <td>2</td>\n",
       "      <td>Bangkok</td>\n",
       "      <td>13.753893</td>\n",
       "      <td>100.81608</td>\n",
       "      <td>ตลาดนัดวัดพลฯ</td>\n",
       "      <td>13.720410</td>\n",
       "      <td>100.795113</td>\n",
       "      <td>4bf58dd8d48988d1f7941735</td>\n",
       "      <td>Shopping</td>\n",
       "    </tr>\n",
       "    <tr>\n",
       "      <td>3</td>\n",
       "      <td>Bangkok</td>\n",
       "      <td>13.753893</td>\n",
       "      <td>100.81608</td>\n",
       "      <td>ข้าวต้มฉลองชัย</td>\n",
       "      <td>13.747742</td>\n",
       "      <td>100.793052</td>\n",
       "      <td>4bf58dd8d48988d142941735</td>\n",
       "      <td>Food</td>\n",
       "    </tr>\n",
       "    <tr>\n",
       "      <td>4</td>\n",
       "      <td>Bangkok</td>\n",
       "      <td>13.753893</td>\n",
       "      <td>100.81608</td>\n",
       "      <td>ก๋วยเตี๋ยวไก่มะระบุฟเฟ่ต์</td>\n",
       "      <td>13.719221</td>\n",
       "      <td>100.797171</td>\n",
       "      <td>4bf58dd8d48988d1d1941735</td>\n",
       "      <td>Food</td>\n",
       "    </tr>\n",
       "  </tbody>\n",
       "</table>\n",
       "</div>"
      ],
      "text/plain": [
       "      City   City_lat   City_lng                       Venue  Venue_lat  \\\n",
       "0  Bangkok  13.753893  100.81608      Starbucks (สตาร์บัคส์)  13.756659   \n",
       "1  Bangkok  13.753893  100.81608  Café Amazon (คาเฟ่ อเมซอน)  13.755277   \n",
       "2  Bangkok  13.753893  100.81608               ตลาดนัดวัดพลฯ  13.720410   \n",
       "3  Bangkok  13.753893  100.81608              ข้าวต้มฉลองชัย  13.747742   \n",
       "4  Bangkok  13.753893  100.81608   ก๋วยเตี๋ยวไก่มะระบุฟเฟ่ต์  13.719221   \n",
       "\n",
       "    Venue_lng               Category_ID Category_group  \n",
       "0  100.798409  4bf58dd8d48988d1e0931735           Food  \n",
       "1  100.797188  4bf58dd8d48988d1e0931735           Food  \n",
       "2  100.795113  4bf58dd8d48988d1f7941735       Shopping  \n",
       "3  100.793052  4bf58dd8d48988d142941735           Food  \n",
       "4  100.797171  4bf58dd8d48988d1d1941735           Food  "
      ]
     },
     "execution_count": 80,
     "metadata": {},
     "output_type": "execute_result"
    }
   ],
   "source": [
    "top_cities_venues['Category_group'] = top_cities_venues['Category_ID'].map(tc_categories.set_index('category_id')['category_group'])\n",
    "top_cities_venues.head()"
   ]
  },
  {
   "cell_type": "markdown",
   "metadata": {},
   "source": [
    "## Methodology <a name=\"methodology\"></a>\n",
    "\n",
    "In first step we have collected required **data: most visited cities** and identified **venues near city centers**. Also, we have labeled each venue based on its type of tourism.\n",
    "\n",
    "Second step in our analysis will be exploration of **cities** and **venues**. We'll use boxplots to identify which arrivals growth rate behave differently than the others. These outliers can influence the analysis and thus the interpretation of the data. Also, we'll analyze the number of venues in each city. \n",
    "\n",
    "In third and final step we will focus on finding the best number of K to run K-Means Clustering Algorithm. To do so we'll run the algorithm with K in a range of numbers and decide based on Elbow Method. After clustering, we'll graphically explore each cluster. At the end we'll be able to identify cluster's characteristics and label them accordingly. "
   ]
  },
  {
   "cell_type": "markdown",
   "metadata": {},
   "source": [
    "## Analysis <a name=\"analysis\"></a>\n",
    "\n",
    "Let's perform basic explanatory data analysis and derive extra info from our raw data. First let's create a boxplot using arrivals growth rates for each continent."
   ]
  },
  {
   "cell_type": "code",
   "execution_count": 81,
   "metadata": {},
   "outputs": [
    {
     "data": {
      "text/plain": [
       "<matplotlib.axes._subplots.AxesSubplot at 0x7f22ecfc84a8>"
      ]
     },
     "execution_count": 81,
     "metadata": {},
     "output_type": "execute_result"
    },
    {
     "data": {
      "image/png": "[encoded data removed]",
      "text/plain": [
       "<Figure size 432x288 with 1 Axes>"
      ]
     },
     "metadata": {
      "needs_background": "light"
     },
     "output_type": "display_data"
    }
   ],
   "source": [
    "sns.boxplot(x=top_cities['Continent'], y=top_cities['Arr_growth'])"
   ]
  },
  {
   "cell_type": "markdown",
   "metadata": {},
   "source": [
    "Some cities in Asia have discrepant arrivals growth rates. It can influence the analysis and thus the interpretation of the data. We choose to exclude those cities of our analysis."
   ]
  },
  {
   "cell_type": "code",
   "execution_count": 82,
   "metadata": {},
   "outputs": [],
   "source": [
    "p_25, p_75 = np.percentile(top_cities[top_cities['Continent'] == 'AS']['Arr_growth'].sort_values(), [25, 75])\n",
    "\n",
    "iqr = p_75 - p_25\n",
    "upper_bound = p_75 + 1.5 * iqr\n",
    "lower_bound  = p_25 - 1.5 * iqr\n",
    "\n",
    "top_cities = top_cities.drop(top_cities[(top_cities['Continent'] == 'AS') & (top_cities['Arr_growth'] > upper_bound)].index)\n",
    "top_cities = top_cities.drop(top_cities[(top_cities['Continent'] == 'AS') & (top_cities['Arr_growth'] < lower_bound)].index)"
   ]
  },
  {
   "cell_type": "markdown",
   "metadata": {},
   "source": [
    "We can check now number of venues we got from Foursquare API Let's see it in a bar chart. "
   ]
  },
  {
   "cell_type": "code",
   "execution_count": 83,
   "metadata": {},
   "outputs": [
    {
     "data": {
      "text/plain": [
       "<matplotlib.axes._subplots.AxesSubplot at 0x7f22e6213ba8>"
      ]
     },
     "execution_count": 83,
     "metadata": {},
     "output_type": "execute_result"
    },
    {
     "data": {
      "image/png": "[encoded data removed]",
      "text/plain": [
       "<Figure size 432x288 with 1 Axes>"
      ]
     },
     "metadata": {
      "needs_background": "light"
     },
     "output_type": "display_data"
    }
   ],
   "source": [
    "venues_count = top_cities_venues.groupby('City', as_index=False).count()\n",
    "venues_count['City_lng'].hist(bins=10)"
   ]
  },
  {
   "cell_type": "markdown",
   "metadata": {},
   "source": [
    "As we can see for some cities we got a small number of venues. We will assume for this project that minimum acceptable number of venues per city is 30. Let's drop cities whit numbers of venues below 30."
   ]
  },
  {
   "cell_type": "code",
   "execution_count": 84,
   "metadata": {},
   "outputs": [
    {
     "data": {
      "text/plain": [
       "<matplotlib.axes._subplots.AxesSubplot at 0x7f22e5f7ffd0>"
      ]
     },
     "execution_count": 84,
     "metadata": {},
     "output_type": "execute_result"
    },
    {
     "data": {
      "image/png": "[encoded data removed]",
      "text/plain": [
       "<Figure size 432x288 with 1 Axes>"
      ]
     },
     "metadata": {
      "needs_background": "light"
     },
     "output_type": "display_data"
    }
   ],
   "source": [
    "top_cities_venues = top_cities_venues[top_cities_venues.groupby('City')['Category_ID'].transform('count') >= 30]\n",
    "venues_count = top_cities_venues.groupby('City', as_index=False).count()\n",
    "venues_count['City_lng'].hist(bins=10)"
   ]
  },
  {
   "cell_type": "markdown",
   "metadata": {},
   "source": [
    "Perfect! Now let's apply one-hot encoding in **top_cities_venues**."
   ]
  },
  {
   "cell_type": "code",
   "execution_count": 85,
   "metadata": {},
   "outputs": [
    {
     "data": {
      "text/html": [
       "<div>\n",
       "<style scoped>\n",
       "    .dataframe tbody tr th:only-of-type {\n",
       "        vertical-align: middle;\n",
       "    }\n",
       "\n",
       "    .dataframe tbody tr th {\n",
       "        vertical-align: top;\n",
       "    }\n",
       "\n",
       "    .dataframe thead th {\n",
       "        text-align: right;\n",
       "    }\n",
       "</style>\n",
       "<table border=\"1\" class=\"dataframe\">\n",
       "  <thead>\n",
       "    <tr style=\"text-align: right;\">\n",
       "      <th></th>\n",
       "      <th>City</th>\n",
       "      <th>Arts &amp; Culture</th>\n",
       "      <th>Entertainment</th>\n",
       "      <th>Food</th>\n",
       "      <th>Nature</th>\n",
       "      <th>Night Life</th>\n",
       "      <th>Shopping</th>\n",
       "      <th>Sports</th>\n",
       "    </tr>\n",
       "  </thead>\n",
       "  <tbody>\n",
       "    <tr>\n",
       "      <td>0</td>\n",
       "      <td>Bangkok</td>\n",
       "      <td>0</td>\n",
       "      <td>0</td>\n",
       "      <td>1</td>\n",
       "      <td>0</td>\n",
       "      <td>0</td>\n",
       "      <td>0</td>\n",
       "      <td>0</td>\n",
       "    </tr>\n",
       "    <tr>\n",
       "      <td>1</td>\n",
       "      <td>Bangkok</td>\n",
       "      <td>0</td>\n",
       "      <td>0</td>\n",
       "      <td>1</td>\n",
       "      <td>0</td>\n",
       "      <td>0</td>\n",
       "      <td>0</td>\n",
       "      <td>0</td>\n",
       "    </tr>\n",
       "    <tr>\n",
       "      <td>2</td>\n",
       "      <td>Bangkok</td>\n",
       "      <td>0</td>\n",
       "      <td>0</td>\n",
       "      <td>0</td>\n",
       "      <td>0</td>\n",
       "      <td>0</td>\n",
       "      <td>1</td>\n",
       "      <td>0</td>\n",
       "    </tr>\n",
       "    <tr>\n",
       "      <td>3</td>\n",
       "      <td>Bangkok</td>\n",
       "      <td>0</td>\n",
       "      <td>0</td>\n",
       "      <td>1</td>\n",
       "      <td>0</td>\n",
       "      <td>0</td>\n",
       "      <td>0</td>\n",
       "      <td>0</td>\n",
       "    </tr>\n",
       "    <tr>\n",
       "      <td>4</td>\n",
       "      <td>Bangkok</td>\n",
       "      <td>0</td>\n",
       "      <td>0</td>\n",
       "      <td>1</td>\n",
       "      <td>0</td>\n",
       "      <td>0</td>\n",
       "      <td>0</td>\n",
       "      <td>0</td>\n",
       "    </tr>\n",
       "  </tbody>\n",
       "</table>\n",
       "</div>"
      ],
      "text/plain": [
       "      City  Arts & Culture  Entertainment  Food  Nature  Night Life  Shopping  \\\n",
       "0  Bangkok               0              0     1       0           0         0   \n",
       "1  Bangkok               0              0     1       0           0         0   \n",
       "2  Bangkok               0              0     0       0           0         1   \n",
       "3  Bangkok               0              0     1       0           0         0   \n",
       "4  Bangkok               0              0     1       0           0         0   \n",
       "\n",
       "   Sports  \n",
       "0       0  \n",
       "1       0  \n",
       "2       0  \n",
       "3       0  \n",
       "4       0  "
      ]
     },
     "execution_count": 85,
     "metadata": {},
     "output_type": "execute_result"
    }
   ],
   "source": [
    "top_cities_onehot = pd.get_dummies(top_cities_venues[['Category_group']], prefix=\"\", prefix_sep=\"\")\n",
    "\n",
    "# add city name to top_cities_onehot\n",
    "top_cities_onehot['City'] = top_cities_venues['City']\n",
    "fixed_columns = [top_cities_onehot.columns[-1]]+ list(top_cities_onehot.columns[:-1])\n",
    "top_cities_onehot = top_cities_onehot[fixed_columns]\n",
    "top_cities_onehot.head()"
   ]
  },
  {
   "cell_type": "markdown",
   "metadata": {},
   "source": [
    "Now we'll group **top_cities_onehot** by city and by taking the mean of the frequency of each category."
   ]
  },
  {
   "cell_type": "code",
   "execution_count": 86,
   "metadata": {},
   "outputs": [
    {
     "data": {
      "text/plain": [
       "(80, 11)"
      ]
     },
     "execution_count": 86,
     "metadata": {},
     "output_type": "execute_result"
    }
   ],
   "source": [
    "top_cities_grouped = top_cities_onehot.groupby('City').mean().reset_index()\n",
    "top_cities_grouped = top_cities_grouped.join(top_cities[['City','Lat','Lng', 'Continent']].set_index('City'), on='City')\n",
    "top_cities_grouped.dropna(inplace=True)\n",
    "top_cities_grouped.shape"
   ]
  },
  {
   "cell_type": "markdown",
   "metadata": {},
   "source": [
    "Now we are able to start clustering. Our first step will be find best K to use in clustering algorithm. We'll apply K-Means Clustering Algorithm in **top_cities_grouped** setting K from 1 to 15 and plot the sums of squared distances."
   ]
  },
  {
   "cell_type": "code",
   "execution_count": 87,
   "metadata": {},
   "outputs": [
    {
     "data": {
      "image/png": "[encoded data removed]",
      "text/plain": [
       "<Figure size 432x288 with 1 Axes>"
      ]
     },
     "metadata": {
      "needs_background": "light"
     },
     "output_type": "display_data"
    }
   ],
   "source": [
    "top_cities_clustering = top_cities_grouped.drop(['City', 'Lat', 'Lng', 'Continent'], axis=1)\n",
    "\n",
    "Sum_of_squared_distances = []\n",
    "K = range(1,15)\n",
    "\n",
    "for k in K:\n",
    "    km = KMeans(n_clusters=k)\n",
    "    km = km.fit(top_cities_clustering)\n",
    "    Sum_of_squared_distances.append(km.inertia_)\n",
    "\n",
    "plt.plot(K, Sum_of_squared_distances, 'bx-')\n",
    "plt.xlabel('k')\n",
    "plt.ylabel('Sum_of_squared_distances')\n",
    "plt.title('Elbow Method For Optimal k')\n",
    "plt.show()"
   ]
  },
  {
   "cell_type": "markdown",
   "metadata": {},
   "source": [
    "As k increases, the sum of squared distance tends to zero. If we set K to its maximum value n (where n is number of samples) each sample will form its own cluster meaning sum of squared distances equals zero. Using Elbow Method we can see that K=3 is a good value to our dataset, so let's cluster using it!"
   ]
  },
  {
   "cell_type": "code",
   "execution_count": 88,
   "metadata": {},
   "outputs": [
    {
     "data": {
      "text/plain": [
       "array([1, 0, 1, 1, 2, 1, 1, 0, 0, 1, 1, 2, 2, 2, 1, 1, 2, 2, 1, 1, 1, 0,\n",
       "       1, 1, 0, 0, 2, 1, 2, 1, 0, 1, 2, 2, 0, 2, 1, 1, 0, 1, 2, 1, 1, 1,\n",
       "       1, 1, 1, 0, 0, 1, 0, 1, 1, 1, 2, 1, 1, 1, 1, 2, 2, 0, 0, 0, 1, 1,\n",
       "       1, 1, 1, 1, 2, 1, 2, 2, 1, 2, 0, 0, 1, 0], dtype=int32)"
      ]
     },
     "execution_count": 88,
     "metadata": {},
     "output_type": "execute_result"
    }
   ],
   "source": [
    "kclusters = 3\n",
    "\n",
    "# run k-means clustering\n",
    "kmeans = KMeans(n_clusters=kclusters, random_state=0).fit(top_cities_clustering)\n",
    "\n",
    "# check cluster labels generated for each row in the dataframe\n",
    "kmeans.labels_[:]"
   ]
  },
  {
   "cell_type": "markdown",
   "metadata": {},
   "source": [
    "Now let's add some data to **top_cities_grouped** so we can plot each cluster in the map."
   ]
  },
  {
   "cell_type": "code",
   "execution_count": 89,
   "metadata": {},
   "outputs": [
    {
     "data": {
      "text/html": [
       "<div>\n",
       "<style scoped>\n",
       "    .dataframe tbody tr th:only-of-type {\n",
       "        vertical-align: middle;\n",
       "    }\n",
       "\n",
       "    .dataframe tbody tr th {\n",
       "        vertical-align: top;\n",
       "    }\n",
       "\n",
       "    .dataframe thead th {\n",
       "        text-align: right;\n",
       "    }\n",
       "</style>\n",
       "<table border=\"1\" class=\"dataframe\">\n",
       "  <thead>\n",
       "    <tr style=\"text-align: right;\">\n",
       "      <th></th>\n",
       "      <th>City</th>\n",
       "      <th>Arts &amp; Culture</th>\n",
       "      <th>Entertainment</th>\n",
       "      <th>Food</th>\n",
       "      <th>Nature</th>\n",
       "      <th>Night Life</th>\n",
       "      <th>Shopping</th>\n",
       "      <th>Sports</th>\n",
       "      <th>Lat</th>\n",
       "      <th>Lng</th>\n",
       "      <th>Continent</th>\n",
       "      <th>Cluster</th>\n",
       "    </tr>\n",
       "  </thead>\n",
       "  <tbody>\n",
       "    <tr>\n",
       "      <td>1</td>\n",
       "      <td>Amsterdam</td>\n",
       "      <td>0.02</td>\n",
       "      <td>0.050000</td>\n",
       "      <td>0.410000</td>\n",
       "      <td>0.02000</td>\n",
       "      <td>0.090000</td>\n",
       "      <td>0.220000</td>\n",
       "      <td>0.040000</td>\n",
       "      <td>52.374540</td>\n",
       "      <td>4.897976</td>\n",
       "      <td>EU</td>\n",
       "      <td>1</td>\n",
       "    </tr>\n",
       "    <tr>\n",
       "      <td>2</td>\n",
       "      <td>Antalya</td>\n",
       "      <td>0.08</td>\n",
       "      <td>0.040000</td>\n",
       "      <td>0.330000</td>\n",
       "      <td>0.07000</td>\n",
       "      <td>0.110000</td>\n",
       "      <td>0.280000</td>\n",
       "      <td>0.040000</td>\n",
       "      <td>36.900964</td>\n",
       "      <td>30.695485</td>\n",
       "      <td>AS</td>\n",
       "      <td>0</td>\n",
       "    </tr>\n",
       "    <tr>\n",
       "      <td>3</td>\n",
       "      <td>Artvin</td>\n",
       "      <td>0.00</td>\n",
       "      <td>0.063492</td>\n",
       "      <td>0.444444</td>\n",
       "      <td>0.15873</td>\n",
       "      <td>0.111111</td>\n",
       "      <td>0.047619</td>\n",
       "      <td>0.063492</td>\n",
       "      <td>41.160506</td>\n",
       "      <td>41.839863</td>\n",
       "      <td>AS</td>\n",
       "      <td>1</td>\n",
       "    </tr>\n",
       "    <tr>\n",
       "      <td>4</td>\n",
       "      <td>Athens</td>\n",
       "      <td>0.08</td>\n",
       "      <td>0.040000</td>\n",
       "      <td>0.490000</td>\n",
       "      <td>0.02000</td>\n",
       "      <td>0.210000</td>\n",
       "      <td>0.120000</td>\n",
       "      <td>0.000000</td>\n",
       "      <td>37.984149</td>\n",
       "      <td>23.727984</td>\n",
       "      <td>EU</td>\n",
       "      <td>1</td>\n",
       "    </tr>\n",
       "    <tr>\n",
       "      <td>5</td>\n",
       "      <td>Auckland</td>\n",
       "      <td>0.04</td>\n",
       "      <td>0.050000</td>\n",
       "      <td>0.610000</td>\n",
       "      <td>0.05000</td>\n",
       "      <td>0.100000</td>\n",
       "      <td>0.050000</td>\n",
       "      <td>0.030000</td>\n",
       "      <td>-36.852095</td>\n",
       "      <td>174.763180</td>\n",
       "      <td>OC</td>\n",
       "      <td>2</td>\n",
       "    </tr>\n",
       "    <tr>\n",
       "      <td>...</td>\n",
       "      <td>...</td>\n",
       "      <td>...</td>\n",
       "      <td>...</td>\n",
       "      <td>...</td>\n",
       "      <td>...</td>\n",
       "      <td>...</td>\n",
       "      <td>...</td>\n",
       "      <td>...</td>\n",
       "      <td>...</td>\n",
       "      <td>...</td>\n",
       "      <td>...</td>\n",
       "      <td>...</td>\n",
       "    </tr>\n",
       "    <tr>\n",
       "      <td>80</td>\n",
       "      <td>Vancouver</td>\n",
       "      <td>0.05</td>\n",
       "      <td>0.010000</td>\n",
       "      <td>0.600000</td>\n",
       "      <td>0.09000</td>\n",
       "      <td>0.050000</td>\n",
       "      <td>0.090000</td>\n",
       "      <td>0.070000</td>\n",
       "      <td>49.260872</td>\n",
       "      <td>-123.113953</td>\n",
       "      <td>AM</td>\n",
       "      <td>2</td>\n",
       "    </tr>\n",
       "    <tr>\n",
       "      <td>81</td>\n",
       "      <td>Venice</td>\n",
       "      <td>0.13</td>\n",
       "      <td>0.060000</td>\n",
       "      <td>0.360000</td>\n",
       "      <td>0.03000</td>\n",
       "      <td>0.080000</td>\n",
       "      <td>0.100000</td>\n",
       "      <td>0.000000</td>\n",
       "      <td>45.437191</td>\n",
       "      <td>12.334590</td>\n",
       "      <td>EU</td>\n",
       "      <td>0</td>\n",
       "    </tr>\n",
       "    <tr>\n",
       "      <td>82</td>\n",
       "      <td>Vienna</td>\n",
       "      <td>0.12</td>\n",
       "      <td>0.140000</td>\n",
       "      <td>0.390000</td>\n",
       "      <td>0.03000</td>\n",
       "      <td>0.090000</td>\n",
       "      <td>0.080000</td>\n",
       "      <td>0.020000</td>\n",
       "      <td>48.208354</td>\n",
       "      <td>16.372504</td>\n",
       "      <td>EU</td>\n",
       "      <td>0</td>\n",
       "    </tr>\n",
       "    <tr>\n",
       "      <td>83</td>\n",
       "      <td>Warsaw</td>\n",
       "      <td>0.08</td>\n",
       "      <td>0.030000</td>\n",
       "      <td>0.450000</td>\n",
       "      <td>0.12000</td>\n",
       "      <td>0.150000</td>\n",
       "      <td>0.070000</td>\n",
       "      <td>0.060000</td>\n",
       "      <td>52.233717</td>\n",
       "      <td>21.071411</td>\n",
       "      <td>EU</td>\n",
       "      <td>1</td>\n",
       "    </tr>\n",
       "    <tr>\n",
       "      <td>84</td>\n",
       "      <td>Washington D.C.</td>\n",
       "      <td>0.27</td>\n",
       "      <td>0.040000</td>\n",
       "      <td>0.350000</td>\n",
       "      <td>0.05000</td>\n",
       "      <td>0.030000</td>\n",
       "      <td>0.050000</td>\n",
       "      <td>0.020000</td>\n",
       "      <td>38.895009</td>\n",
       "      <td>-77.036563</td>\n",
       "      <td>AM</td>\n",
       "      <td>0</td>\n",
       "    </tr>\n",
       "  </tbody>\n",
       "</table>\n",
       "<p>80 rows × 12 columns</p>\n",
       "</div>"
      ],
      "text/plain": [
       "               City  Arts & Culture  Entertainment      Food   Nature  \\\n",
       "1         Amsterdam            0.02       0.050000  0.410000  0.02000   \n",
       "2           Antalya            0.08       0.040000  0.330000  0.07000   \n",
       "3            Artvin            0.00       0.063492  0.444444  0.15873   \n",
       "4            Athens            0.08       0.040000  0.490000  0.02000   \n",
       "5          Auckland            0.04       0.050000  0.610000  0.05000   \n",
       "..              ...             ...            ...       ...      ...   \n",
       "80        Vancouver            0.05       0.010000  0.600000  0.09000   \n",
       "81           Venice            0.13       0.060000  0.360000  0.03000   \n",
       "82           Vienna            0.12       0.140000  0.390000  0.03000   \n",
       "83           Warsaw            0.08       0.030000  0.450000  0.12000   \n",
       "84  Washington D.C.            0.27       0.040000  0.350000  0.05000   \n",
       "\n",
       "    Night Life  Shopping    Sports        Lat         Lng Continent  Cluster  \n",
       "1     0.090000  0.220000  0.040000  52.374540    4.897976        EU        1  \n",
       "2     0.110000  0.280000  0.040000  36.900964   30.695485        AS        0  \n",
       "3     0.111111  0.047619  0.063492  41.160506   41.839863        AS        1  \n",
       "4     0.210000  0.120000  0.000000  37.984149   23.727984        EU        1  \n",
       "5     0.100000  0.050000  0.030000 -36.852095  174.763180        OC        2  \n",
       "..         ...       ...       ...        ...         ...       ...      ...  \n",
       "80    0.050000  0.090000  0.070000  49.260872 -123.113953        AM        2  \n",
       "81    0.080000  0.100000  0.000000  45.437191   12.334590        EU        0  \n",
       "82    0.090000  0.080000  0.020000  48.208354   16.372504        EU        0  \n",
       "83    0.150000  0.070000  0.060000  52.233717   21.071411        EU        1  \n",
       "84    0.030000  0.050000  0.020000  38.895009  -77.036563        AM        0  \n",
       "\n",
       "[80 rows x 12 columns]"
      ]
     },
     "execution_count": 89,
     "metadata": {},
     "output_type": "execute_result"
    }
   ],
   "source": [
    "top_cities_grouped.insert(len(top_cities_grouped.columns), 'Cluster', kmeans.labels_)\n",
    "top_cities_grouped"
   ]
  },
  {
   "cell_type": "code",
   "execution_count": 90,
   "metadata": {},
   "outputs": [
    {
     "data": {
      "text/html": [
       "<div style=\"width:100%;\"><div style=\"position:relative;width:100%;height:0;padding-bottom:60%;\"><iframe src=\"data:text/html;charset=utf-8;base64,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\" style=\"position:absolute;width:100%;height:100%;left:0;top:0;border:none !important;\" allowfullscreen webkitallowfullscreen mozallowfullscreen></iframe></div></div>"
      ],
      "text/plain": [
       "<folium.folium.Map at 0x7f22e5eba940>"
      ]
     },
     "execution_count": 90,
     "metadata": {},
     "output_type": "execute_result"
    }
   ],
   "source": [
    "map_clusters = folium.Map(location=[0,25], zoom_start = 2)\n",
    "\n",
    "# set color scheme for the clusters\n",
    "x = np.arange(kclusters)\n",
    "ys = [i + x + (i*x)**2 for i in range(kclusters)]\n",
    "colors_array = cm.rainbow(np.linspace(0, 1, len(ys)))\n",
    "rainbow = [colors.rgb2hex(i) for i in colors_array]\n",
    "# add markers to the map\n",
    "markers_colors = []\n",
    "for lat, lon, poi, cluster in zip(top_cities_grouped['Lat'], \n",
    "                                  top_cities_grouped['Lng'], \n",
    "                                  top_cities_grouped['City'], \n",
    "                                  top_cities_grouped['Cluster']):\n",
    "    label = folium.Popup(str(poi) + ' Cluster ' + str(cluster), parse_html=True)\n",
    "    folium.CircleMarker(\n",
    "        [lat, lon],\n",
    "        radius=5,\n",
    "        popup=label,\n",
    "        color=rainbow[cluster-1],\n",
    "        fill=True,\n",
    "        fill_color=rainbow[cluster-1],\n",
    "        fill_opacity=0.7).add_to(map_clusters)\n",
    "       \n",
    "map_clusters"
   ]
  },
  {
   "cell_type": "markdown",
   "metadata": {},
   "source": [
    "![](cluster_map.PNG)"
   ]
  },
  {
   "cell_type": "markdown",
   "metadata": {},
   "source": [
    "After clustering, let's explore each cluster to identify their main characteristics. First we can check size of each cluster."
   ]
  },
  {
   "cell_type": "code",
   "execution_count": 51,
   "metadata": {},
   "outputs": [
    {
     "data": {
      "text/plain": [
       "<seaborn.axisgrid.FacetGrid at 0x7f22e769e9b0>"
      ]
     },
     "execution_count": 51,
     "metadata": {},
     "output_type": "execute_result"
    },
    {
     "data": {
      "image/png": "[encoded data removed]",
      "text/plain": [
       "<Figure size 360x360 with 1 Axes>"
      ]
     },
     "metadata": {
      "needs_background": "light"
     },
     "output_type": "display_data"
    }
   ],
   "source": [
    "top_cities_barplot = top_cities_grouped.groupby('Cluster', as_index=False).count()\n",
    "sns.catplot(x='Cluster', y='City', data = top_cities_barplot, kind='bar')"
   ]
  },
  {
   "cell_type": "markdown",
   "metadata": {},
   "source": [
    "Cluster 1 is by far the most populated cluster. Clusters 0 and 2 have similar sizes. We can extract more information by checking continent distribution in each clusters."
   ]
  },
  {
   "cell_type": "code",
   "execution_count": 91,
   "metadata": {},
   "outputs": [
    {
     "data": {
      "text/plain": [
       "<seaborn.axisgrid.FacetGrid at 0x7f22e611af98>"
      ]
     },
     "execution_count": 91,
     "metadata": {},
     "output_type": "execute_result"
    },
    {
     "data": {
      "image/png": "[encoded data removed]",
      "text/plain": [
       "<Figure size 416.75x360 with 1 Axes>"
      ]
     },
     "metadata": {
      "needs_background": "light"
     },
     "output_type": "display_data"
    }
   ],
   "source": [
    "top_cities_contbarplot = top_cities_grouped.groupby(['Cluster', 'Continent'], as_index=False).count()\n",
    "sns.catplot(x='Cluster', y='City', hue='Continent', data = top_cities_contbarplot, kind='bar')"
   ]
  },
  {
   "cell_type": "markdown",
   "metadata": {},
   "source": [
    "We can see that majority of cities in cluster 0 belongs to Europe. Cluster 1 has cities spread by all continents. However, we can see that cities in Cluster 2 are majority located in Asian. Now go deeper into each cluster by analyzing boxplots."
   ]
  },
  {
   "cell_type": "code",
   "execution_count": 92,
   "metadata": {},
   "outputs": [
    {
     "data": {
      "text/plain": [
       "<seaborn.axisgrid.FacetGrid at 0x7f22e5ceda20>"
      ]
     },
     "execution_count": 92,
     "metadata": {},
     "output_type": "execute_result"
    },
    {
     "data": {
      "image/png": "[encoded data removed]",
      "text/plain": [
       "<Figure size 1080x360 with 3 Axes>"
      ]
     },
     "metadata": {
      "needs_background": "light"
     },
     "output_type": "display_data"
    }
   ],
   "source": [
    "top_cities_boxplot = top_cities_grouped.melt(id_vars=['Cluster'], var_name='Cat_group', value_name='Freq')\n",
    "\n",
    "top_cities_boxplot = top_cities_boxplot.drop(top_cities_boxplot[(top_cities_boxplot['Cat_group'] == 'Lat') \n",
    "                                                    | (top_cities_boxplot['Cat_group'] == 'Lng')\n",
    "                                                    | (top_cities_boxplot['Cat_group'] == 'City')\n",
    "                                                    | (top_cities_boxplot['Cat_group'] == 'Continent')].index)\n",
    "\n",
    "top_cities_boxplot.reset_index(inplace=True)\n",
    "sns.catplot(x='Cat_group', y='Freq', col='Cluster',data = top_cities_boxplot,kind='box').set_xticklabels(rotation=90)"
   ]
  },
  {
   "cell_type": "markdown",
   "metadata": {},
   "source": [
    "We can conclude that **Cluster 0** holds best cities when visitors want to have a taste of each kind of experience. All kind of experiences are provided by those cities venues in a good reasonable proportion. In addiction, if visitors want to shopping, enjoy art and culture or see the nature definitely Cluster 0 should be their destiny. \n",
    "\n",
    "**Cluster** 1 is the largest cluster. It means its cities can be likely found near the visitors, what can make trips cheapest . Cities in this cluster offer a huge number of places to enjoy food. Places to enjoy night life and shopping can be found easily as well.\n",
    "\n",
    "**Cluster** 2 is definitely recommended to visitor who prefer travel to enjoy food. Places to eat can be found everywhere. Despite that, we can't find a good number of places to enjoy other kind of experiences. Art & Culture and Nature options are the Achilles's heel of this Cluster.\n",
    "\n",
    "In general, places to have fun and enjoy or do sports are similarly spread by clusters.\n",
    "\n",
    "Finally, lets label each Cluster based on our analysis and print its cities. "
   ]
  },
  {
   "cell_type": "code",
   "execution_count": 93,
   "metadata": {},
   "outputs": [
    {
     "name": "stdout",
     "output_type": "stream",
     "text": [
      "========================================\n",
      "Cluster 0 - Full Experience\n",
      "========================================\n",
      "Antalya\n",
      "Berlin\n",
      "Brussels\n",
      "Florence\n",
      "Guilin\n",
      "Ha Long\n",
      "Jerusalem\n",
      "Kuala Lumpur\n",
      "London\n",
      "Milan\n",
      "Moscow\n",
      "New York City\n",
      "Rome\n",
      "Saint Petersburg\n",
      "San Francisco\n",
      "Venice\n",
      "Vienna\n",
      "Washington D.C.\n"
     ]
    }
   ],
   "source": [
    "print('========================================')\n",
    "print('Cluster 0 - Full Experience')\n",
    "print('========================================')\n",
    "\n",
    "for i, row in top_cities_grouped.iterrows():\n",
    "    if row['Cluster'] == 0:\n",
    "        print(row['City'])"
   ]
  },
  {
   "cell_type": "code",
   "execution_count": 94,
   "metadata": {},
   "outputs": [
    {
     "name": "stdout",
     "output_type": "stream",
     "text": [
      "========================================\n",
      "Cluster 1 - Eating, Partyng and Shopping\n",
      "========================================\n",
      "Amsterdam\n",
      "Artvin\n",
      "Athens\n",
      "Bangkok\n",
      "Barcelona\n",
      "Budapest\n",
      "Cairo\n",
      "Colombo\n",
      "Copenhagen\n",
      "Dubai\n",
      "Dublin\n",
      "Edirne\n",
      "Frankfurt am Main\n",
      "Guangzhou\n",
      "Heraklion\n",
      "Jaipur\n",
      "Johannesburg\n",
      "Lima\n",
      "Lisbon\n",
      "Los Angeles\n",
      "Madrid\n",
      "Marrakesh\n",
      "Mecca\n",
      "Melbourne\n",
      "Mexico City\n",
      "Miami\n",
      "Munich\n",
      "Orlando\n",
      "Osaka\n",
      "Pattaya\n",
      "Phnom Penh\n",
      "Phuket\n",
      "Prague\n",
      "Punta Cana\n",
      "Shanghai\n",
      "Shenzhen\n",
      "Siem Reap\n",
      "Singapore\n",
      "Stockholm\n",
      "Sydney\n",
      "Taipei\n",
      "Toronto\n",
      "Warsaw\n"
     ]
    }
   ],
   "source": [
    "print('========================================')\n",
    "print('Cluster 1 - Eating, Partyng and Shopping')\n",
    "print('========================================')\n",
    "\n",
    "for i, row in top_cities_grouped.iterrows():\n",
    "    if row['Cluster'] == 1:\n",
    "        print(row['City'])"
   ]
  },
  {
   "cell_type": "code",
   "execution_count": 95,
   "metadata": {},
   "outputs": [
    {
     "name": "stdout",
     "output_type": "stream",
     "text": [
      "========================================\n",
      "Cluster 2 - Food Everywhere \n",
      "========================================\n",
      "Auckland\n",
      "Cancún\n",
      "Chennai\n",
      "Chiang Mai\n",
      "Dammam\n",
      "Doha\n",
      "Hanoi\n",
      "Honolulu\n",
      "Johor Bahru\n",
      "Kolkata\n",
      "Kyoto\n",
      "Macau\n",
      "Penang Island\n",
      "Rhodes\n",
      "Riyadh\n",
      "Taichung\n",
      "Tel Aviv\n",
      "Tokyo\n",
      "Vancouver\n"
     ]
    }
   ],
   "source": [
    "print('========================================')\n",
    "print('Cluster 2 - Food Everywhere ')\n",
    "print('========================================')\n",
    "\n",
    "for i, row in top_cities_grouped.iterrows():\n",
    "    if row['Cluster'] == 2:\n",
    "        print(row['City'])"
   ]
  },
  {
   "cell_type": "markdown",
   "metadata": {},
   "source": [
    "## Results and Discussion <a name=\"results\"></a>\n",
    "\n",
    "Our analysis shows that majority of most visited cities are located in Europe and Asia. Some of those cities has not enough information about venues in Foursquare. It doesn't mean that those cities have a small number of options to offer to their visitors. We focused on cities with at least thirty places registered in Foursquare near their city centers.\n",
    "\n",
    "After directing our attention to this more narrow area, we choose to ignore cities in Asia with discrepant arrivals growth rates. It can influence the analysis and thus the interpretation of the data. \n",
    "\n",
    "We found best number of clusters by analyzing squared distances when running K-Mean Clustering Algorithm for a range of values for K.\n",
    "\n",
    "Clusters got from K-Mean Algorithm shows that we can split cities in three main clusters. First one holds cities indicated to visitors who wants to experience all kind of experiences, like shopping and  enjoy nature and arts. Cities in this cluster are mainly located in Europe and Asia.\n",
    "\n",
    "Second cluster is indicated to visitors who wants to spend less money to reach their final destination, enjoy food or experience a intense night life.\n",
    "\n",
    "Third cluster is heavily recommended to visitors who are looking for cities to enjoy food. Most of cities in this cluster have more than 65% of their places focused on food tourism.\n",
    "\n",
    " In general, places to have fun and enjoy or do sports figure similarly in all clusters."
   ]
  },
  {
   "cell_type": "markdown",
   "metadata": {},
   "source": [
    "## Conclusion <a name=\"conclusion\"></a>\n",
    "\n",
    "Purpose of this project was to identify similarity between most visited cities to aid stakeholders make customized suggestions.\n",
    "\n",
    "By clustering most visited cities in the world we have created groups of similar cities based on their venues categories. Those groups will help stakeholders to make customized suggestions based on their client's preferences."
   ]
  }
 ],
 "metadata": {
  "kernelspec": {
   "display_name": "Python",
   "language": "python",
   "name": "conda-env-python-py"
  },
  "language_info": {
   "codemirror_mode": {
    "name": "ipython",
    "version": 3
   },
   "file_extension": ".py",
   "mimetype": "text/x-python",
   "name": "python",
   "nbconvert_exporter": "python",
   "pygments_lexer": "ipython3",
   "version": "3.6.7"
  }
 },
 "nbformat": 4,
 "nbformat_minor": 4
}
